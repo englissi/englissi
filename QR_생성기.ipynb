{
  "nbformat": 4,
  "nbformat_minor": 0,
  "metadata": {
    "colab": {
      "provenance": [],
      "authorship_tag": "ABX9TyPLJhsSZK0YrtlpzQf9pesp",
      "include_colab_link": true
    },
    "kernelspec": {
      "name": "python3",
      "display_name": "Python 3"
    },
    "language_info": {
      "name": "python"
    }
  },
  "cells": [
    {
      "cell_type": "markdown",
      "metadata": {
        "id": "view-in-github",
        "colab_type": "text"
      },
      "source": [
        "<a href=\"https://colab.research.google.com/github/englissi/englissi/blob/main/QR_%EC%83%9D%EC%84%B1%EA%B8%B0.ipynb\" target=\"_parent\"><img src=\"https://colab.research.google.com/assets/colab-badge.svg\" alt=\"Open In Colab\"/></a>"
      ]
    },
    {
      "cell_type": "code",
      "execution_count": 9,
      "metadata": {
        "id": "d7hADygLloyy"
      },
      "outputs": [],
      "source": [
        "# 필요한 라이브러리 설치\n",
        "%%capture\n",
        "!pip install qrcode[pil] gradio\n"
      ]
    },
    {
      "cell_type": "code",
      "source": [
        "# QR 코드 생성기 코드\n",
        "import qrcode\n",
        "from PIL import Image\n",
        "import gradio as gr\n",
        "\n",
        "def generate_qr(url: str) -> Image.Image:\n",
        "    qr = qrcode.QRCode(\n",
        "        version=1,\n",
        "        error_correction=qrcode.constants.ERROR_CORRECT_L,\n",
        "        box_size=10,\n",
        "        border=4,\n",
        "    )\n",
        "    qr.add_data(url)\n",
        "    qr.make(fit=True)\n",
        "\n",
        "    img = qr.make_image(fill_color=\"black\", back_color=\"white\")\n",
        "    img = img.convert(\"RGB\")  # Ensure the image is in RGB mode\n",
        "    return img\n",
        "\n",
        "interface = gr.Interface(\n",
        "    fn=generate_qr,\n",
        "    inputs=gr.Textbox(lines=1, placeholder=\"공유할 주소를 입력하세요...\"),\n",
        "    outputs=\"image\",\n",
        "    title=\"QR Code Generator\",\n",
        "    description=\"공유할 주소를 입력하고 QR 코드를 생성하세요.\"\n",
        ")\n",
        "\n",
        "interface.launch(share=True)"
      ],
      "metadata": {
        "colab": {
          "base_uri": "https://localhost:8080/",
          "height": 594
        },
        "id": "BipvWK1mluPv",
        "outputId": "bbca5252-a29e-4937-9fb9-f3bf4dd70991"
      },
      "execution_count": 10,
      "outputs": [
        {
          "output_type": "stream",
          "name": "stdout",
          "text": [
            "Colab notebook detected. To show errors in colab notebook, set debug=True in launch()\n",
            "Running on public URL: https://58ba2fe046c1fac36c.gradio.live\n",
            "\n",
            "This share link expires in 72 hours. For free permanent hosting and GPU upgrades, run `gradio deploy` from Terminal to deploy to Spaces (https://huggingface.co/spaces)\n"
          ]
        },
        {
          "output_type": "display_data",
          "data": {
            "text/plain": [
              "<IPython.core.display.HTML object>"
            ],
            "text/html": [
              "<div><iframe src=\"https://58ba2fe046c1fac36c.gradio.live\" width=\"100%\" height=\"500\" allow=\"autoplay; camera; microphone; clipboard-read; clipboard-write;\" frameborder=\"0\" allowfullscreen></iframe></div>"
            ]
          },
          "metadata": {}
        },
        {
          "output_type": "execute_result",
          "data": {
            "text/plain": []
          },
          "metadata": {},
          "execution_count": 10
        }
      ]
    }
  ]
}