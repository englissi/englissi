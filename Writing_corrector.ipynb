{
  "nbformat": 4,
  "nbformat_minor": 0,
  "metadata": {
    "colab": {
      "provenance": [],
      "authorship_tag": "ABX9TyM306UAObpgmU1MEgIUV0eu",
      "include_colab_link": true
    },
    "kernelspec": {
      "name": "python3",
      "display_name": "Python 3"
    },
    "language_info": {
      "name": "python"
    }
  },
  "cells": [
    {
      "cell_type": "markdown",
      "metadata": {
        "id": "view-in-github",
        "colab_type": "text"
      },
      "source": [
        "<a href=\"https://colab.research.google.com/github/englissi/englissi/blob/main/Writing_corrector.ipynb\" target=\"_parent\"><img src=\"https://colab.research.google.com/assets/colab-badge.svg\" alt=\"Open In Colab\"/></a>"
      ]
    },
    {
      "cell_type": "markdown",
      "source": [
        "## Writing Helper"
      ],
      "metadata": {
        "id": "5OW-OD7y57Zv"
      }
    },
    {
      "cell_type": "code",
      "source": [
        "%%capture\n",
        "!pip install language-tool-python"
      ],
      "metadata": {
        "id": "zIw1ck2j6PZ8"
      },
      "execution_count": 2,
      "outputs": []
    },
    {
      "cell_type": "code",
      "execution_count": 1,
      "metadata": {
        "id": "Ih4hot_n56wT"
      },
      "outputs": [],
      "source": [
        "%%capture\n",
        "!pip install gradio"
      ]
    },
    {
      "cell_type": "code",
      "source": [
        "import language_tool_python\n",
        "import gradio as gr\n",
        "\n",
        "def correct_sentence(input_sentence, sentence_type):\n",
        "    tool = language_tool_python.LanguageTool('en-US')\n",
        "    matches = tool.check(input_sentence)\n",
        "    corrected_sentence = language_tool_python.utils.correct(input_sentence, matches)\n",
        "\n",
        "    if sentence_type == \"Statement\" and not corrected_sentence.strip().endswith('.'):\n",
        "        corrected_sentence = corrected_sentence.strip() + '.'\n",
        "    elif sentence_type == \"Question\" and not corrected_sentence.strip().endswith('?'):\n",
        "        corrected_sentence = corrected_sentence.strip() + '?'\n",
        "    # No additional punctuation for \"Word\" type\n",
        "\n",
        "    return corrected_sentence\n",
        "\n",
        "iface = gr.Interface(\n",
        "    fn=correct_sentence,\n",
        "    inputs=[gr.Textbox(lines=2, placeholder=\"Enter a sentence or a word here...\"), gr.Radio([\"Statement\", \"Question\", \"Word\"])],\n",
        "    outputs=\"text\",\n",
        "    title=\"Grammar and Punctuation Corrector\",\n",
        "    description=\"Enter a sentence or a word and select its type (Statement, Question, or Word) to get grammar corrections with appropriate punctuation.\"\n",
        ")\n",
        "\n",
        "iface.launch()"
      ],
      "metadata": {
        "colab": {
          "base_uri": "https://localhost:8080/",
          "height": 629
        },
        "id": "5BCCEcaT6MMr",
        "outputId": "17a6770d-2e52-422e-8d17-9221507f5396"
      },
      "execution_count": 3,
      "outputs": [
        {
          "output_type": "stream",
          "name": "stdout",
          "text": [
            "Setting queue=True in a Colab notebook requires sharing enabled. Setting `share=True` (you can turn this off by setting `share=False` in `launch()` explicitly).\n",
            "\n",
            "Colab notebook detected. To show errors in colab notebook, set debug=True in launch()\n",
            "Running on public URL: https://a85a53d38f8b74dbb3.gradio.live\n",
            "\n",
            "This share link expires in 72 hours. For free permanent hosting and GPU upgrades, run `gradio deploy` from Terminal to deploy to Spaces (https://huggingface.co/spaces)\n"
          ]
        },
        {
          "output_type": "display_data",
          "data": {
            "text/plain": [
              "<IPython.core.display.HTML object>"
            ],
            "text/html": [
              "<div><iframe src=\"https://a85a53d38f8b74dbb3.gradio.live\" width=\"100%\" height=\"500\" allow=\"autoplay; camera; microphone; clipboard-read; clipboard-write;\" frameborder=\"0\" allowfullscreen></iframe></div>"
            ]
          },
          "metadata": {}
        },
        {
          "output_type": "execute_result",
          "data": {
            "text/plain": []
          },
          "metadata": {},
          "execution_count": 3
        }
      ]
    }
  ]
}