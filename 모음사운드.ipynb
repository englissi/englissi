{
  "nbformat": 4,
  "nbformat_minor": 0,
  "metadata": {
    "colab": {
      "provenance": [],
      "authorship_tag": "ABX9TyOph2i19bpY80aPRqa6tgzd",
      "include_colab_link": true
    },
    "kernelspec": {
      "name": "python3",
      "display_name": "Python 3"
    },
    "language_info": {
      "name": "python"
    }
  },
  "cells": [
    {
      "cell_type": "markdown",
      "metadata": {
        "id": "view-in-github",
        "colab_type": "text"
      },
      "source": [
        "<a href=\"https://colab.research.google.com/github/englissi/englissi/blob/main/%EB%AA%A8%EC%9D%8C%EC%82%AC%EC%9A%B4%EB%93%9C.ipynb\" target=\"_parent\"><img src=\"https://colab.research.google.com/assets/colab-badge.svg\" alt=\"Open In Colab\"/></a>"
      ]
    },
    {
      "cell_type": "code",
      "execution_count": null,
      "metadata": {
        "id": "LFBcYIgfczQM"
      },
      "outputs": [],
      "source": []
    },
    {
      "cell_type": "code",
      "source": [],
      "metadata": {
        "id": "paW41zVfnLqX"
      },
      "execution_count": null,
      "outputs": []
    },
    {
      "cell_type": "markdown",
      "source": [],
      "metadata": {
        "id": "foO43xkLnMd1"
      }
    },
    {
      "cell_type": "code",
      "source": [
        "def vowel_sound_checker(word):\n",
        "    vowels = {'a', 'e', 'i', 'o', 'u'}\n",
        "    vowel_sounds = []\n",
        "\n",
        "    for i in range(len(word)):\n",
        "        if word[i].lower() in vowels:\n",
        "            vowel_sound = word[i]\n",
        "            if vowel_sound == 'a' and i < len(word) - 1 and word[i+1].lower() == 'i':\n",
        "                vowel_sound = 'ai'\n",
        "            elif vowel_sound == 'a' and i < len(word) - 1 and word[i+1].lower() == 'y':\n",
        "                vowel_sound = 'ay'\n",
        "            elif vowel_sound == 'e' and i < len(word) - 1 and word[i+1].lower() == 'a':\n",
        "                vowel_sound = 'ea'\n",
        "            elif vowel_sound == 'e' and i < len(word) - 1 and word[i+1].lower() == 'e':\n",
        "                vowel_sound = 'ee'\n",
        "            elif vowel_sound == 'i' and i < len(word) - 1 and word[i+1].lower() == 'e':\n",
        "                vowel_sound = 'ie'\n",
        "            elif vowel_sound == 'i' and i < len(word) - 1 and word[i+1].lower() == 'o':\n",
        "                vowel_sound = 'io'\n",
        "            elif vowel_sound == 'o' and i < len(word) - 1 and word[i+1].lower() == 'o':\n",
        "                vowel_sound = 'oo'\n",
        "            elif vowel_sound == 'o' and i < len(word) - 1 and word[i+1].lower() == 'u':\n",
        "                vowel_sound = 'ou'\n",
        "            elif vowel_sound == 'u' and i < len(word) - 1 and word[i+1].lower() == 'i':\n",
        "                vowel_sound = 'ui'\n",
        "            vowel_sounds.append(vowel_sound)\n",
        "\n",
        "    return vowel_sounds\n",
        "\n",
        "word = input(\"단어를 입력하세요: \")\n",
        "sounds = vowel_sound_checker(word)\n",
        "print(\"모음 소리:\", sounds)\n",
        "\n"
      ],
      "metadata": {
        "id": "ljZOUBlTnMui"
      },
      "execution_count": null,
      "outputs": []
    }
  ]
}