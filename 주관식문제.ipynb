{
  "nbformat": 4,
  "nbformat_minor": 0,
  "metadata": {
    "colab": {
      "provenance": [],
      "authorship_tag": "ABX9TyPnVOPDK9B4YeQfZEwCmXYf",
      "include_colab_link": true
    },
    "kernelspec": {
      "name": "python3",
      "display_name": "Python 3"
    },
    "language_info": {
      "name": "python"
    }
  },
  "cells": [
    {
      "cell_type": "markdown",
      "metadata": {
        "id": "view-in-github",
        "colab_type": "text"
      },
      "source": [
        "<a href=\"https://colab.research.google.com/github/englissi/englissi/blob/main/%EC%A3%BC%EA%B4%80%EC%8B%9D%EB%AC%B8%EC%A0%9C.ipynb\" target=\"_parent\"><img src=\"https://colab.research.google.com/assets/colab-badge.svg\" alt=\"Open In Colab\"/></a>"
      ]
    },
    {
      "cell_type": "markdown",
      "source": [
        "## 주관식문제"
      ],
      "metadata": {
        "id": "pVHNJyZTQp8j"
      }
    },
    {
      "cell_type": "code",
      "source": [
        "%%capture\n",
        "!pip install gradio\n"
      ],
      "metadata": {
        "id": "0mbC17rlQlrW"
      },
      "execution_count": 1,
      "outputs": []
    },
    {
      "cell_type": "code",
      "execution_count": 7,
      "metadata": {
        "colab": {
          "base_uri": "https://localhost:8080/",
          "height": 593
        },
        "id": "AVALNTDIQa-z",
        "outputId": "6603ca15-45f7-4877-fffc-71043746463e"
      },
      "outputs": [
        {
          "output_type": "stream",
          "name": "stdout",
          "text": [
            "Colab notebook detected. To show errors in colab notebook, set debug=True in launch()\n",
            "Running on public URL: https://d48757941b6f124667.gradio.live\n",
            "\n",
            "This share link expires in 72 hours. For free permanent hosting and GPU upgrades, run `gradio deploy` from Terminal to deploy to Spaces (https://huggingface.co/spaces)\n"
          ]
        },
        {
          "output_type": "display_data",
          "data": {
            "text/plain": [
              "<IPython.core.display.HTML object>"
            ],
            "text/html": [
              "<div><iframe src=\"https://d48757941b6f124667.gradio.live\" width=\"100%\" height=\"500\" allow=\"autoplay; camera; microphone; clipboard-read; clipboard-write;\" frameborder=\"0\" allowfullscreen></iframe></div>"
            ]
          },
          "metadata": {}
        },
        {
          "output_type": "execute_result",
          "data": {
            "text/plain": []
          },
          "metadata": {},
          "execution_count": 7
        }
      ],
      "source": [
        "import gradio as gr\n",
        "import random\n",
        "\n",
        "# Story and questions\n",
        "story_text = \"\"\"\n",
        "In the small mountain village of Echo Ridge, adventure was a part of everyday life. Nestled among towering peaks, the village was said to be protected by the \"Guardian of the Glen,\" a massive eagle that supposedly watched over the villagers from its perch high in the mountains. The legend inspired many adventurous tales among the villagers, especially the children.\n",
        "Among these children was a bright-eyed eighth grader named Alex. Alex was known for his daring spirit and his love for exploring the rugged landscapes around Echo Ridge. He had a particular fascination with the old maps and tales of hidden treasures that had been lost in the mountains centuries ago.\n",
        "One day, while exploring the local library, Alex stumbled upon an ancient map tucked inside a forgotten book on village lore. The map hinted at the location of a lost treasure, hidden deep within a cave known as Whispering Hollow. Excited by the prospect of a real adventure, Alex decided to seek out the treasure.\n",
        "Knowing the journey would be risky, he enlisted the help of his best friends, Mia and Sam. Together, they prepared for the expedition, gathering supplies and studying the map extensively. They planned their route, took note of landmarks, and readied themselves for any challenges they might face.\n",
        "Their journey began at dawn. They trekked through dense forests, crossed rushing streams, and climbed steep cliffs. Along the way, they encountered various wildlife and navigated through tricky terrains, their map guiding them every step of the way.\n",
        "After hours of hiking, they finally reached Whispering Hollow. The cave was more magnificent than they had imagined, filled with intricate stalactites and echoes of dripping water. Using their flashlights, they ventured deeper into the cave, guided by the markings on the map.\n",
        "As they reached the heart of the cave, they discovered an ancient chest hidden behind a fallen boulder. With hearts pounding, they moved the boulder and opened the chest. Inside, instead of gold or jewels, they found a collection of old artifacts: pottery, coins, and a beautifully carved statuette of an eagle — the Guardian of the Glen.\n",
        "Realizing the historical significance of their find, they decided to donate the artifacts to the local museum. The village celebrated their discovery, and the children were hailed as heroes. Their adventure brought the community together, sparking a renewed interest in the history and legends of Echo Ridge. Alex, Mia, and Sam became local legends, known not only for their daring but also for their spirit of discovery and respect for heritage. They continued to explore the mountains, each adventure strengthening their friendship and deepening their connection to their village.\n",
        "The legend of the Guardian of the Glen lived on, not just as a protector but as a symbol of adventure and discovery, inspiring future generations to explore the mysteries of Echo Ridge.\n",
        "\"\"\"\n",
        "\n",
        "# Define stages of the game\n",
        "stages = [\n",
        "    {\n",
        "        \"question\": \"What is the name of the village where adventure was a part of everyday life?\",\n",
        "        \"answer\": \"Echo Ridge\",\n",
        "        \"hint\": \"It's the setting of our story.\"\n",
        "    },\n",
        "    {\n",
        "        \"question\": \"Who was said to protect the village of Echo Ridge?\",\n",
        "        \"answer\": \"The Guardian of the Glen\",\n",
        "        \"hint\": \"It's a massive eagle.\"\n",
        "    },\n",
        "    {\n",
        "        \"question\": \"What did Alex find in the local library?\",\n",
        "        \"answer\": \"an ancient map\",\n",
        "        \"hint\": \"It was tucked inside a forgotten book.\"\n",
        "    },\n",
        "    {\n",
        "        \"question\": \"What was the name of the cave where the treasure was hidden?\",\n",
        "        \"answer\": \"Whispering Hollow\",\n",
        "        \"hint\": \"The cave had intricate stalactites and echoes of dripping water.\"\n",
        "    },\n",
        "    {\n",
        "        \"question\": \"What did Alex and his friends find inside the ancient chest?\",\n",
        "        \"answer\": \"old artifacts\",\n",
        "        \"hint\": \"It included pottery, coins, and a carved statuette of an eagle.\"\n",
        "    },\n",
        "]\n",
        "\n",
        "# Function to start the game\n",
        "def start_game():\n",
        "    return gr.update(visible=True), gr.update(value=\"\", visible=True), gr.update(visible=False), gr.update(visible=True), gr.update(visible=True), gr.update(value=stages[0][\"question\"]), gr.update(visible=True)\n",
        "\n",
        "# Function to process the current stage\n",
        "def process_stage(state, answer):\n",
        "    stage_index = state[\"stage_index\"]\n",
        "    score = state[\"score\"]\n",
        "    results = state[\"results\"]\n",
        "\n",
        "    correct = False\n",
        "    if answer.strip().lower() == stages[stage_index][\"answer\"].strip().lower():\n",
        "        score += 1\n",
        "        correct = True\n",
        "\n",
        "    if correct:\n",
        "        results.append(f\"Stage {stage_index + 1}: Correct\")\n",
        "    else:\n",
        "        results.append(f\"Stage {stage_index + 1}: Incorrect, the correct answer is: {stages[stage_index]['answer']}\")\n",
        "\n",
        "    stage_index += 1\n",
        "    state[\"stage_index\"] = stage_index\n",
        "    state[\"score\"] = score\n",
        "    state[\"results\"] = results\n",
        "\n",
        "    if stage_index < len(stages):\n",
        "        current_stage = stages[stage_index - 1]\n",
        "        feedback = f\"Correct! {current_stage['hint']}\" if correct else f\"Incorrect. The correct answer was '{current_stage['answer']}'. {current_stage['hint']}\"\n",
        "        next_stage = stages[stage_index]\n",
        "        return state, feedback, next_stage[\"question\"], gr.update(visible=True), gr.update(value=\"\"), gr.update(visible=True)\n",
        "    else:\n",
        "        result_text = f\"Game Over! Your score: {score} out of {len(stages)}\\n\\n\" + \"\\n\".join(results)\n",
        "        return state, result_text, \"\", gr.update(visible=False), gr.update(visible=False), gr.update(visible=False)\n",
        "\n",
        "# Create the Gradio interface\n",
        "with gr.Blocks() as iface:\n",
        "    state = gr.State({\"stage_index\": 0, \"score\": 0, \"results\": []})\n",
        "\n",
        "    gr.Markdown(\"# The Guardian's Secret Treasure Hunt Game\")\n",
        "\n",
        "    with gr.Row():\n",
        "        with gr.Column():\n",
        "            story_display = gr.Markdown(value=story_text, visible=False)\n",
        "        with gr.Column():\n",
        "            question_display = gr.Markdown(visible=False)\n",
        "            answer_input = gr.Textbox(label=\"Your Answer\", visible=False)\n",
        "            next_button = gr.Button(\"Next\", visible=False)\n",
        "            feedback_output = gr.Textbox(label=\"Feedback\", interactive=False)\n",
        "\n",
        "    start_button = gr.Button(\"Start Game\")\n",
        "\n",
        "    start_button.click(start_game, outputs=[story_display, feedback_output, start_button, question_display, answer_input, question_display, next_button])\n",
        "    next_button.click(process_stage, inputs=[state, answer_input], outputs=[state, feedback_output, question_display, next_button, answer_input, next_button])\n",
        "\n",
        "iface.launch(share=True)\n"
      ]
    }
  ]
}