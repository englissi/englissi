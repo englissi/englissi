{
  "nbformat": 4,
  "nbformat_minor": 0,
  "metadata": {
    "colab": {
      "provenance": [],
      "authorship_tag": "ABX9TyNZ4MrVtByJtzIiIPplCYcp",
      "include_colab_link": true
    },
    "kernelspec": {
      "name": "python3",
      "display_name": "Python 3"
    },
    "language_info": {
      "name": "python"
    }
  },
  "cells": [
    {
      "cell_type": "markdown",
      "metadata": {
        "id": "view-in-github",
        "colab_type": "text"
      },
      "source": [
        "<a href=\"https://colab.research.google.com/github/englissi/englissi/blob/main/%EB%B6%88%EA%B0%80%EB%A6%AC%EC%95%84%EC%96%B4%EB%B0%9C%EC%9D%8C%ED%8F%89%EA%B0%80.ipynb\" target=\"_parent\"><img src=\"https://colab.research.google.com/assets/colab-badge.svg\" alt=\"Open In Colab\"/></a>"
      ]
    },
    {
      "cell_type": "code",
      "execution_count": 1,
      "metadata": {
        "id": "ix7MPK2EpHbE"
      },
      "outputs": [],
      "source": [
        "%%capture\n",
        "!pip install gradio speechrecognition\n",
        "!pip install gradio gtts"
      ]
    },
    {
      "cell_type": "code",
      "source": [
        "import gradio as gr\n",
        "from gtts import gTTS\n",
        "import speech_recognition as sr\n",
        "from difflib import SequenceMatcher\n",
        "import tempfile\n",
        "import os\n",
        "\n",
        "def tts_bulgarian(word):\n",
        "    tts = gTTS(text=word, lang='bg')\n",
        "    temp_file_path = tempfile.mktemp(suffix=\".mp3\")\n",
        "    tts.save(temp_file_path)\n",
        "    return temp_file_path\n",
        "\n",
        "def recognize_speech_from_microphone_bulgarian(audio_path):\n",
        "    recognizer = sr.Recognizer()\n",
        "    try:\n",
        "        with sr.AudioFile(audio_path) as source:\n",
        "            audio_data = recognizer.record(source)\n",
        "            text = recognizer.recognize_google(audio_data, language='bg-BG')\n",
        "            return text\n",
        "    except sr.UnknownValueError:\n",
        "        return \"Could not understand the audio\"\n",
        "    except sr.RequestError as e:\n",
        "        return f\"Could not request results from Google Speech Recognition service; {e}\"\n",
        "    except Exception as e:\n",
        "        return str(e)\n",
        "\n",
        "def calculate_similarity_bulgarian(word, recognized_text):\n",
        "    return SequenceMatcher(None, word, recognized_text).ratio() * 100\n",
        "\n",
        "def process_audio_bulgarian(word, audio_path):\n",
        "    recognized_text = recognize_speech_from_microphone_bulgarian(audio_path)\n",
        "    if \"Error\" in recognized_text or \"Could not\" in recognized_text:\n",
        "        return recognized_text, 0.0\n",
        "    similarity = calculate_similarity_bulgarian(word, recognized_text)\n",
        "    return recognized_text, similarity\n",
        "\n",
        "def evaluate_pronunciation_bulgarian(word):\n",
        "    temp_file_path = tts_bulgarian(word)\n",
        "    return temp_file_path\n",
        "\n",
        "def process_all_bulgarian(word, audio_path):\n",
        "    recognized_text, similarity = process_audio_bulgarian(word, audio_path)\n",
        "    return recognized_text, similarity\n",
        "\n",
        "with gr.Blocks() as demo:\n",
        "    with gr.Row():\n",
        "        word_input = gr.Textbox(label=\"Въведете думата за оценка на произношението\")\n",
        "        tts_button = gr.Button(\"Чуйте думата\")\n",
        "    tts_audio = gr.Audio(label=\"Оригинално произношение\", type=\"filepath\")\n",
        "\n",
        "    with gr.Row():\n",
        "        mic_input = gr.Audio(label=\"Вашето произношение\", type=\"filepath\")\n",
        "        result_button = gr.Button(\"Оценете произношението\")\n",
        "\n",
        "    recognized_text = gr.Textbox(label=\"Разпознат текст\")\n",
        "    similarity_score = gr.Number(label=\"Сходство (%)\")\n",
        "\n",
        "    tts_button.click(evaluate_pronunciation_bulgarian, inputs=word_input, outputs=tts_audio)\n",
        "    result_button.click(process_all_bulgarian, inputs=[word_input, mic_input], outputs=[recognized_text, similarity_score])\n",
        "\n",
        "demo.launch()\n"
      ],
      "metadata": {
        "colab": {
          "base_uri": "https://localhost:8080/",
          "height": 629
        },
        "id": "aZjk8TScpLWq",
        "outputId": "d7899054-7ad1-428f-9d15-bf4b06beb169"
      },
      "execution_count": 2,
      "outputs": [
        {
          "output_type": "stream",
          "name": "stdout",
          "text": [
            "Setting queue=True in a Colab notebook requires sharing enabled. Setting `share=True` (you can turn this off by setting `share=False` in `launch()` explicitly).\n",
            "\n",
            "Colab notebook detected. To show errors in colab notebook, set debug=True in launch()\n",
            "Running on public URL: https://9268eda19a005a6cfc.gradio.live\n",
            "\n",
            "This share link expires in 72 hours. For free permanent hosting and GPU upgrades, run `gradio deploy` from Terminal to deploy to Spaces (https://huggingface.co/spaces)\n"
          ]
        },
        {
          "output_type": "display_data",
          "data": {
            "text/plain": [
              "<IPython.core.display.HTML object>"
            ],
            "text/html": [
              "<div><iframe src=\"https://9268eda19a005a6cfc.gradio.live\" width=\"100%\" height=\"500\" allow=\"autoplay; camera; microphone; clipboard-read; clipboard-write;\" frameborder=\"0\" allowfullscreen></iframe></div>"
            ]
          },
          "metadata": {}
        },
        {
          "output_type": "execute_result",
          "data": {
            "text/plain": []
          },
          "metadata": {},
          "execution_count": 2
        }
      ]
    }
  ]
}