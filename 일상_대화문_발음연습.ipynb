{
  "nbformat": 4,
  "nbformat_minor": 0,
  "metadata": {
    "colab": {
      "provenance": [],
      "authorship_tag": "ABX9TyPpEGlQTny8xZGAwAKT01BI",
      "include_colab_link": true
    },
    "kernelspec": {
      "name": "python3",
      "display_name": "Python 3"
    },
    "language_info": {
      "name": "python"
    }
  },
  "cells": [
    {
      "cell_type": "markdown",
      "metadata": {
        "id": "view-in-github",
        "colab_type": "text"
      },
      "source": [
        "<a href=\"https://colab.research.google.com/github/englissi/englissi/blob/main/%EC%9D%BC%EC%83%81_%EB%8C%80%ED%99%94%EB%AC%B8_%EB%B0%9C%EC%9D%8C%EC%97%B0%EC%8A%B5.ipynb\" target=\"_parent\"><img src=\"https://colab.research.google.com/assets/colab-badge.svg\" alt=\"Open In Colab\"/></a>"
      ]
    },
    {
      "cell_type": "code",
      "execution_count": 8,
      "metadata": {
        "id": "1LOxQ86RXIog"
      },
      "outputs": [],
      "source": [
        "%%capture\n",
        "\n",
        "!pip install gradio gtts\n",
        "!pip install gradio gtts speechrecognition\n",
        "!pip install gradio gtts speechrecognition difflib\n",
        "\n"
      ]
    },
    {
      "cell_type": "code",
      "source": [
        "import gradio as gr\n",
        "from gtts import gTTS\n",
        "import speech_recognition as sr\n",
        "from difflib import SequenceMatcher\n",
        "import tempfile\n",
        "import random\n",
        "\n",
        "def generate_daily_conversation():\n",
        "    conversations = {\n",
        "        \"ordering food\": [\n",
        "            \"A: Hi, how are you today?\",\n",
        "            \"B: I'm good, thanks! How about you?\",\n",
        "            \"A: I'm doing well. Did you do anything fun over the weekend?\",\n",
        "            \"B: Yes, I went hiking. It was really refreshing. What about you?\",\n",
        "            \"A: I watched a couple of movies and relaxed at home.\"\n",
        "        ],\n",
        "        \"booking a hotel\": [\n",
        "            \"A: Hello, I'd like to book a room for two nights.\",\n",
        "            \"B: Certainly, would you prefer a single or double bed?\",\n",
        "            \"A: A double bed, please.\",\n",
        "            \"B: No problem. May I have your name, please?\"\n",
        "        ],\n",
        "        \"asking for directions\": [\n",
        "            \"A: Excuse me, can you tell me how to get to the nearest subway station?\",\n",
        "            \"B: Sure, go straight ahead and take the second left. The station is just around the corner.\",\n",
        "            \"A: Thank you very much!\",\n",
        "            \"B: You're welcome!\"\n",
        "        ]\n",
        "    }\n",
        "    return conversations\n",
        "\n",
        "def text_to_speech(text, lang='en', gender='female'):\n",
        "    tld = 'co.uk' if gender == 'male' else 'com'\n",
        "    tts = gTTS(text=text, lang=lang, tld=tld)\n",
        "    temp_file_path = tempfile.mktemp(suffix=\".mp3\")\n",
        "    tts.save(temp_file_path)\n",
        "    return temp_file_path\n",
        "\n",
        "def recognize_speech_from_microphone(audio_path):\n",
        "    recognizer = sr.Recognizer()\n",
        "    try:\n",
        "        with sr.AudioFile(audio_path) as source:\n",
        "            audio_data = recognizer.record(source)\n",
        "            text = recognizer.recognize_google(audio_data)\n",
        "            return text\n",
        "    except sr.UnknownValueError:\n",
        "        return \"Could not understand the audio\"\n",
        "    except sr.RequestError as e:\n",
        "        return f\"Could not request results from Google Speech Recognition service; {e}\"\n",
        "    except Exception as e:\n",
        "        return str(e)\n",
        "\n",
        "def calculate_similarity(original_text, recognized_text):\n",
        "    return SequenceMatcher(None, original_text.lower(), recognized_text.lower()).ratio() * 100\n",
        "\n",
        "def process_conversation(scenario):\n",
        "    conversations = generate_daily_conversation()\n",
        "    conversation = conversations.get(scenario, [])\n",
        "    dialogue = \"\\n\".join(conversation)\n",
        "    return conversation, dialogue\n",
        "\n",
        "def process_sentence(sentence, audio):\n",
        "    recognized_text = recognize_speech_from_microphone(audio)\n",
        "    similarity = calculate_similarity(sentence, recognized_text)\n",
        "    return recognized_text, similarity\n",
        "\n",
        "def update_sentence(index, conversation):\n",
        "    index = int(index)\n",
        "    if index < len(conversation):\n",
        "        sentence = conversation[index]\n",
        "        audio_path = text_to_speech(sentence.replace('A: ', '').replace('B: ', ''), gender='male' if 'A:' in sentence else 'female')\n",
        "        return sentence, audio_path, None, None\n",
        "    else:\n",
        "        return \"\", \"\", None, None\n",
        "\n",
        "with gr.Blocks() as demo:\n",
        "    scenarios = list(generate_daily_conversation().keys())\n",
        "    scenario_choice = gr.Dropdown(choices=scenarios, label=\"Choose a scenario\")\n",
        "\n",
        "    conversation, dialogue = process_conversation(scenarios[0])\n",
        "    dialogue_state = gr.State(value=conversation)\n",
        "    dialogue_box = gr.Textbox(label=\"Generated Dialogue\", value=dialogue, interactive=False)\n",
        "\n",
        "    with gr.Row():\n",
        "        sentence_index = gr.Number(label=\"Sentence Index\", value=0, interactive=True)\n",
        "        sentence_text = gr.Textbox(label=\"Sentence\", value=conversation[0], interactive=False)\n",
        "        native_audio = gr.Audio(label=\"Native Pronunciation\", type=\"filepath\", value=text_to_speech(conversation[0].replace('A: ', '').replace('B: ', ''), gender='male' if 'A:' in conversation[0] else 'female'))\n",
        "\n",
        "    with gr.Row():\n",
        "        audio_input = gr.Audio(label=\"Your Pronunciation\", type=\"filepath\")\n",
        "        evaluate_button = gr.Button(\"Evaluate Pronunciation\")\n",
        "\n",
        "    recognized_text = gr.Textbox(label=\"Recognized Text\")\n",
        "    similarity_score = gr.Number(label=\"Similarity (%)\")\n",
        "\n",
        "    def on_scenario_change(scenario):\n",
        "        new_conversation, new_dialogue = process_conversation(scenario)\n",
        "        return new_conversation, new_dialogue, new_conversation[0], text_to_speech(new_conversation[0].replace('A: ', '').replace('B: ', ''), gender='male' if 'A:' in new_conversation[0] else 'female'), None, None\n",
        "\n",
        "    scenario_choice.change(on_scenario_change, inputs=[scenario_choice], outputs=[dialogue_state, dialogue_box, sentence_text, native_audio, recognized_text, similarity_score])\n",
        "\n",
        "    sentence_index.change(update_sentence, inputs=[sentence_index, dialogue_state], outputs=[sentence_text, native_audio, recognized_text, similarity_score])\n",
        "    evaluate_button.click(process_sentence, inputs=[sentence_text, audio_input], outputs=[recognized_text, similarity_score])\n",
        "\n",
        "demo.launch()\n"
      ],
      "metadata": {
        "colab": {
          "base_uri": "https://localhost:8080/",
          "height": 629
        },
        "id": "UdqIOD_6XNad",
        "outputId": "ba16ca72-401b-42c9-94ea-7f1317db4540"
      },
      "execution_count": 13,
      "outputs": [
        {
          "output_type": "stream",
          "name": "stdout",
          "text": [
            "Setting queue=True in a Colab notebook requires sharing enabled. Setting `share=True` (you can turn this off by setting `share=False` in `launch()` explicitly).\n",
            "\n",
            "Colab notebook detected. To show errors in colab notebook, set debug=True in launch()\n",
            "Running on public URL: https://c808567388fcb52858.gradio.live\n",
            "\n",
            "This share link expires in 72 hours. For free permanent hosting and GPU upgrades, run `gradio deploy` from Terminal to deploy to Spaces (https://huggingface.co/spaces)\n"
          ]
        },
        {
          "output_type": "display_data",
          "data": {
            "text/plain": [
              "<IPython.core.display.HTML object>"
            ],
            "text/html": [
              "<div><iframe src=\"https://c808567388fcb52858.gradio.live\" width=\"100%\" height=\"500\" allow=\"autoplay; camera; microphone; clipboard-read; clipboard-write;\" frameborder=\"0\" allowfullscreen></iframe></div>"
            ]
          },
          "metadata": {}
        },
        {
          "output_type": "execute_result",
          "data": {
            "text/plain": []
          },
          "metadata": {},
          "execution_count": 13
        }
      ]
    }
  ]
}