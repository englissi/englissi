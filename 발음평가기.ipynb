{
  "nbformat": 4,
  "nbformat_minor": 0,
  "metadata": {
    "colab": {
      "provenance": [],
      "authorship_tag": "ABX9TyMvud+66RkDESzwZdDLifM8",
      "include_colab_link": true
    },
    "kernelspec": {
      "name": "python3",
      "display_name": "Python 3"
    },
    "language_info": {
      "name": "python"
    }
  },
  "cells": [
    {
      "cell_type": "markdown",
      "metadata": {
        "id": "view-in-github",
        "colab_type": "text"
      },
      "source": [
        "<a href=\"https://colab.research.google.com/github/englissi/englissi/blob/main/%EB%B0%9C%EC%9D%8C%ED%8F%89%EA%B0%80%EA%B8%B0.ipynb\" target=\"_parent\"><img src=\"https://colab.research.google.com/assets/colab-badge.svg\" alt=\"Open In Colab\"/></a>"
      ]
    },
    {
      "cell_type": "code",
      "execution_count": 29,
      "metadata": {
        "id": "J8rh9EZTFL6I"
      },
      "outputs": [],
      "source": [
        "%%capture\n",
        "!pip install gradio speechrecognition\n",
        "\n",
        "!pip install gradio gtts\n",
        "\n"
      ]
    },
    {
      "cell_type": "code",
      "source": [
        "import gradio as gr\n",
        "from gtts import gTTS\n",
        "import speech_recognition as sr\n",
        "from difflib import SequenceMatcher\n",
        "import tempfile\n",
        "import os\n",
        "\n",
        "def tts(word):\n",
        "    tts = gTTS(text=word, lang='en')\n",
        "    temp_file_path = tempfile.mktemp(suffix=\".mp3\")\n",
        "    tts.save(temp_file_path)\n",
        "    return temp_file_path\n",
        "\n",
        "def recognize_speech_from_microphone(audio_path):\n",
        "    recognizer = sr.Recognizer()\n",
        "    try:\n",
        "        with sr.AudioFile(audio_path) as source:\n",
        "            audio_data = recognizer.record(source)\n",
        "            text = recognizer.recognize_google(audio_data)\n",
        "            return text\n",
        "    except sr.UnknownValueError:\n",
        "        return \"Could not understand the audio\"\n",
        "    except sr.RequestError as e:\n",
        "        return f\"Could not request results from Google Speech Recognition service; {e}\"\n",
        "    except Exception as e:\n",
        "        return str(e)\n",
        "\n",
        "def calculate_similarity(word, recognized_text):\n",
        "    return SequenceMatcher(None, word.lower(), recognized_text.lower()).ratio() * 100\n",
        "\n",
        "def process_audio(word, audio_path):\n",
        "    recognized_text = recognize_speech_from_microphone(audio_path)\n",
        "    if \"Error\" in recognized_text or \"Could not\" in recognized_text:\n",
        "        return recognized_text, 0.0\n",
        "    similarity = calculate_similarity(word, recognized_text)\n",
        "    return recognized_text, similarity\n",
        "\n",
        "def evaluate_pronunciation(word):\n",
        "    temp_file_path = tts(word)\n",
        "    return temp_file_path\n",
        "\n",
        "def process_all(word, audio_path):\n",
        "    recognized_text, similarity = process_audio(word, audio_path)\n",
        "    return recognized_text, similarity\n",
        "\n",
        "with gr.Blocks() as demo:\n",
        "    with gr.Row():\n",
        "        word_input = gr.Textbox(label=\"Enter the word for pronunciation\")\n",
        "        tts_button = gr.Button(\"Listen to the word\")\n",
        "    tts_audio = gr.Audio(label=\"Original Pronunciation\", type=\"filepath\")\n",
        "\n",
        "    with gr.Row():\n",
        "        mic_input = gr.Audio(label=\"Your Pronunciation\", type=\"filepath\")\n",
        "        result_button = gr.Button(\"Evaluate Pronunciation\")\n",
        "\n",
        "    recognized_text = gr.Textbox(label=\"Recognized Text\")\n",
        "    similarity_score = gr.Number(label=\"Similarity (%)\")\n",
        "\n",
        "    tts_button.click(evaluate_pronunciation, inputs=word_input, outputs=tts_audio)\n",
        "    result_button.click(process_all, inputs=[word_input, mic_input], outputs=[recognized_text, similarity_score])\n",
        "\n",
        "demo.launch()\n"
      ],
      "metadata": {
        "colab": {
          "base_uri": "https://localhost:8080/",
          "height": 629
        },
        "id": "Z90ei05rFukf",
        "outputId": "fe7ad357-b97e-4c00-d6dd-a2d22b2ecc3d"
      },
      "execution_count": 30,
      "outputs": [
        {
          "output_type": "stream",
          "name": "stdout",
          "text": [
            "Setting queue=True in a Colab notebook requires sharing enabled. Setting `share=True` (you can turn this off by setting `share=False` in `launch()` explicitly).\n",
            "\n",
            "Colab notebook detected. To show errors in colab notebook, set debug=True in launch()\n",
            "Running on public URL: https://a287e5900c5f1c0e72.gradio.live\n",
            "\n",
            "This share link expires in 72 hours. For free permanent hosting and GPU upgrades, run `gradio deploy` from Terminal to deploy to Spaces (https://huggingface.co/spaces)\n"
          ]
        },
        {
          "output_type": "display_data",
          "data": {
            "text/plain": [
              "<IPython.core.display.HTML object>"
            ],
            "text/html": [
              "<div><iframe src=\"https://a287e5900c5f1c0e72.gradio.live\" width=\"100%\" height=\"500\" allow=\"autoplay; camera; microphone; clipboard-read; clipboard-write;\" frameborder=\"0\" allowfullscreen></iframe></div>"
            ]
          },
          "metadata": {}
        },
        {
          "output_type": "execute_result",
          "data": {
            "text/plain": []
          },
          "metadata": {},
          "execution_count": 30
        }
      ]
    }
  ]
}