{
  "nbformat": 4,
  "nbformat_minor": 0,
  "metadata": {
    "colab": {
      "provenance": [],
      "authorship_tag": "ABX9TyPsWQZiONs7ecaigp27gV8M",
      "include_colab_link": true
    },
    "kernelspec": {
      "name": "python3",
      "display_name": "Python 3"
    },
    "language_info": {
      "name": "python"
    }
  },
  "cells": [
    {
      "cell_type": "markdown",
      "metadata": {
        "id": "view-in-github",
        "colab_type": "text"
      },
      "source": [
        "<a href=\"https://colab.research.google.com/github/englissi/englissi/blob/main/PDF%EC%9A%94%EC%95%BD.ipynb\" target=\"_parent\"><img src=\"https://colab.research.google.com/assets/colab-badge.svg\" alt=\"Open In Colab\"/></a>"
      ]
    },
    {
      "cell_type": "code",
      "execution_count": 1,
      "metadata": {
        "id": "lv8ggat4CxIe"
      },
      "outputs": [],
      "source": [
        "%%capture\n",
        "!pip install gradio PyMuPDF transformers\n"
      ]
    },
    {
      "cell_type": "code",
      "source": [
        "\n",
        "import fitz  # PyMuPDF\n",
        "import gradio as gr\n",
        "from transformers import pipeline\n",
        "import re\n",
        "\n",
        "# 요약을 위한 모델 로드\n",
        "summarizer = pipeline(\"summarization\", model=\"sshleifer/distilbart-cnn-12-6\")\n",
        "\n",
        "def extract_text_from_pdf(pdf_path):\n",
        "    doc = fitz.open(pdf_path)\n",
        "    text = \"\"\n",
        "    for page_num in range(doc.page_count):\n",
        "        page = doc.load_page(page_num)\n",
        "        text += page.get_text(\"text\") + \"\\n\"\n",
        "    return text\n",
        "\n",
        "def find_section(text, section_title):\n",
        "    # 정규 표현식을 사용하여 섹션 제목을 찾습니다.\n",
        "    pattern = re.compile(r'(?i)^.*{}.*$'.format(section_title), re.MULTILINE)\n",
        "    matches = list(pattern.finditer(text))\n",
        "    if not matches:\n",
        "        return None\n",
        "    start_idx = matches[0].start()\n",
        "    end_idx = text.find('\\n\\n', start_idx)\n",
        "    if end_idx == -1:\n",
        "        end_idx = len(text)\n",
        "    section_text = text[start_idx:end_idx].strip()\n",
        "    return section_text\n",
        "\n",
        "def summarize_section(text, section_title, max_length=150):\n",
        "    try:\n",
        "        section_text = find_section(text, section_title)\n",
        "        if section_text:\n",
        "            summary = summarizer(section_text, max_length=max_length, min_length=30, do_sample=False)\n",
        "            return summary[0]['summary_text']\n",
        "        return f\"Section '{section_title}' not found.\"\n",
        "    except Exception as e:\n",
        "        return f\"Error processing section '{section_title}': {str(e)}\"\n",
        "\n",
        "def process_pdf(file):\n",
        "    try:\n",
        "        text = extract_text_from_pdf(file.name)\n",
        "    except Exception as e:\n",
        "        return [f\"Error extracting text from PDF: {str(e)}\"] * 3\n",
        "\n",
        "    abstract_summary = summarize_section(text, \"abstract\")\n",
        "    research_question_summary = summarize_section(text, \"research question\")\n",
        "    results_summary = summarize_section(text, \"results\")\n",
        "\n",
        "    return [abstract_summary, research_question_summary, results_summary]\n",
        "\n",
        "# Gradio 인터페이스 설정\n",
        "interface = gr.Interface(\n",
        "    fn=process_pdf,\n",
        "    inputs=gr.File(label=\"Upload PDF\"),\n",
        "    outputs=[\n",
        "        gr.Textbox(label=\"Abstract Summary\"),\n",
        "        gr.Textbox(label=\"Research Question Summary\"),\n",
        "        gr.Textbox(label=\"Results Summary\")\n",
        "    ]\n",
        ")\n",
        "\n",
        "# 인터페이스 실행\n",
        "interface.launch()"
      ],
      "metadata": {
        "colab": {
          "base_uri": "https://localhost:8080/",
          "height": 631
        },
        "id": "L4-7hWOGCy29",
        "outputId": "9ba30512-7812-43e2-d4da-1e2a3c1f8863"
      },
      "execution_count": 11,
      "outputs": [
        {
          "output_type": "stream",
          "name": "stdout",
          "text": [
            "Setting queue=True in a Colab notebook requires sharing enabled. Setting `share=True` (you can turn this off by setting `share=False` in `launch()` explicitly).\n",
            "\n",
            "Colab notebook detected. To show errors in colab notebook, set debug=True in launch()\n",
            "Running on public URL: https://f9492b07a8337bc985.gradio.live\n",
            "\n",
            "This share link expires in 72 hours. For free permanent hosting and GPU upgrades, run `gradio deploy` from Terminal to deploy to Spaces (https://huggingface.co/spaces)\n"
          ]
        },
        {
          "output_type": "display_data",
          "data": {
            "text/plain": [
              "<IPython.core.display.HTML object>"
            ],
            "text/html": [
              "<div><iframe src=\"https://f9492b07a8337bc985.gradio.live\" width=\"100%\" height=\"500\" allow=\"autoplay; camera; microphone; clipboard-read; clipboard-write;\" frameborder=\"0\" allowfullscreen></iframe></div>"
            ]
          },
          "metadata": {}
        },
        {
          "output_type": "execute_result",
          "data": {
            "text/plain": []
          },
          "metadata": {},
          "execution_count": 11
        }
      ]
    }
  ]
}