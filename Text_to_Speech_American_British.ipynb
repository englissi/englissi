{
  "nbformat": 4,
  "nbformat_minor": 0,
  "metadata": {
    "colab": {
      "provenance": [],
      "authorship_tag": "ABX9TyOIgGouH1sbEgH1D4L3dqHN",
      "include_colab_link": true
    },
    "kernelspec": {
      "name": "python3",
      "display_name": "Python 3"
    },
    "language_info": {
      "name": "python"
    }
  },
  "cells": [
    {
      "cell_type": "markdown",
      "metadata": {
        "id": "view-in-github",
        "colab_type": "text"
      },
      "source": [
        "<a href=\"https://colab.research.google.com/github/englissi/englissi/blob/main/Text_to_Speech_American_British.ipynb\" target=\"_parent\"><img src=\"https://colab.research.google.com/assets/colab-badge.svg\" alt=\"Open In Colab\"/></a>"
      ]
    },
    {
      "cell_type": "code",
      "execution_count": 3,
      "metadata": {
        "colab": {
          "base_uri": "https://localhost:8080/",
          "height": 1000
        },
        "id": "rsV0GRJYlCf_",
        "outputId": "145b3e1b-d722-4fbb-e6e4-06ab393a4475"
      },
      "outputs": [
        {
          "output_type": "stream",
          "name": "stdout",
          "text": [
            "Requirement already satisfied: gTTS in /usr/local/lib/python3.10/dist-packages (2.5.1)\n",
            "Requirement already satisfied: requests<3,>=2.27 in /usr/local/lib/python3.10/dist-packages (from gTTS) (2.31.0)\n",
            "Requirement already satisfied: click<8.2,>=7.1 in /usr/local/lib/python3.10/dist-packages (from gTTS) (8.1.7)\n",
            "Requirement already satisfied: charset-normalizer<4,>=2 in /usr/local/lib/python3.10/dist-packages (from requests<3,>=2.27->gTTS) (3.3.2)\n",
            "Requirement already satisfied: idna<4,>=2.5 in /usr/local/lib/python3.10/dist-packages (from requests<3,>=2.27->gTTS) (3.7)\n",
            "Requirement already satisfied: urllib3<3,>=1.21.1 in /usr/local/lib/python3.10/dist-packages (from requests<3,>=2.27->gTTS) (2.0.7)\n",
            "Requirement already satisfied: certifi>=2017.4.17 in /usr/local/lib/python3.10/dist-packages (from requests<3,>=2.27->gTTS) (2024.2.2)\n"
          ]
        },
        {
          "output_type": "display_data",
          "data": {
            "text/plain": [
              "<IPython.lib.display.Audio object>"
            ],
            "text/html": [
              "\n",
              "                <audio  controls=\"controls\" autoplay=\"autoplay\">\n",
              "                    <source src=\"data:audio/mpeg;base64,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\" type=\"audio/mpeg\" />\n",
              "                    Your browser does not support the audio element.\n",
              "                </audio>\n",
              "              "
            ]
          },
          "metadata": {}
        },
        {
          "output_type": "stream",
          "name": "stdout",
          "text": [
            "Requirement already satisfied: gradio in /usr/local/lib/python3.10/dist-packages (4.31.4)\n",
            "Requirement already satisfied: aiofiles<24.0,>=22.0 in /usr/local/lib/python3.10/dist-packages (from gradio) (23.2.1)\n",
            "Requirement already satisfied: altair<6.0,>=4.2.0 in /usr/local/lib/python3.10/dist-packages (from gradio) (4.2.2)\n",
            "Requirement already satisfied: fastapi in /usr/local/lib/python3.10/dist-packages (from gradio) (0.111.0)\n",
            "Requirement already satisfied: ffmpy in /usr/local/lib/python3.10/dist-packages (from gradio) (0.3.2)\n",
            "Requirement already satisfied: gradio-client==0.16.4 in /usr/local/lib/python3.10/dist-packages (from gradio) (0.16.4)\n",
            "Requirement already satisfied: httpx>=0.24.1 in /usr/local/lib/python3.10/dist-packages (from gradio) (0.27.0)\n",
            "Requirement already satisfied: huggingface-hub>=0.19.3 in /usr/local/lib/python3.10/dist-packages (from gradio) (0.20.3)\n",
            "Requirement already satisfied: importlib-resources<7.0,>=1.3 in /usr/local/lib/python3.10/dist-packages (from gradio) (6.4.0)\n",
            "Requirement already satisfied: jinja2<4.0 in /usr/local/lib/python3.10/dist-packages (from gradio) (3.1.4)\n",
            "Requirement already satisfied: markupsafe~=2.0 in /usr/local/lib/python3.10/dist-packages (from gradio) (2.1.5)\n",
            "Requirement already satisfied: matplotlib~=3.0 in /usr/local/lib/python3.10/dist-packages (from gradio) (3.7.1)\n",
            "Requirement already satisfied: numpy~=1.0 in /usr/local/lib/python3.10/dist-packages (from gradio) (1.25.2)\n",
            "Requirement already satisfied: orjson~=3.0 in /usr/local/lib/python3.10/dist-packages (from gradio) (3.10.3)\n",
            "Requirement already satisfied: packaging in /usr/local/lib/python3.10/dist-packages (from gradio) (24.0)\n",
            "Requirement already satisfied: pandas<3.0,>=1.0 in /usr/local/lib/python3.10/dist-packages (from gradio) (2.0.3)\n",
            "Requirement already satisfied: pillow<11.0,>=8.0 in /usr/local/lib/python3.10/dist-packages (from gradio) (9.4.0)\n",
            "Requirement already satisfied: pydantic>=2.0 in /usr/local/lib/python3.10/dist-packages (from gradio) (2.7.1)\n",
            "Requirement already satisfied: pydub in /usr/local/lib/python3.10/dist-packages (from gradio) (0.25.1)\n",
            "Requirement already satisfied: python-multipart>=0.0.9 in /usr/local/lib/python3.10/dist-packages (from gradio) (0.0.9)\n",
            "Requirement already satisfied: pyyaml<7.0,>=5.0 in /usr/local/lib/python3.10/dist-packages (from gradio) (6.0.1)\n",
            "Requirement already satisfied: ruff>=0.2.2 in /usr/local/lib/python3.10/dist-packages (from gradio) (0.4.4)\n",
            "Requirement already satisfied: semantic-version~=2.0 in /usr/local/lib/python3.10/dist-packages (from gradio) (2.10.0)\n",
            "Requirement already satisfied: tomlkit==0.12.0 in /usr/local/lib/python3.10/dist-packages (from gradio) (0.12.0)\n",
            "Requirement already satisfied: typer<1.0,>=0.12 in /usr/local/lib/python3.10/dist-packages (from gradio) (0.12.3)\n",
            "Requirement already satisfied: typing-extensions~=4.0 in /usr/local/lib/python3.10/dist-packages (from gradio) (4.11.0)\n",
            "Requirement already satisfied: urllib3~=2.0 in /usr/local/lib/python3.10/dist-packages (from gradio) (2.0.7)\n",
            "Requirement already satisfied: uvicorn>=0.14.0 in /usr/local/lib/python3.10/dist-packages (from gradio) (0.29.0)\n",
            "Requirement already satisfied: fsspec in /usr/local/lib/python3.10/dist-packages (from gradio-client==0.16.4->gradio) (2023.6.0)\n",
            "Requirement already satisfied: websockets<12.0,>=10.0 in /usr/local/lib/python3.10/dist-packages (from gradio-client==0.16.4->gradio) (11.0.3)\n",
            "Requirement already satisfied: entrypoints in /usr/local/lib/python3.10/dist-packages (from altair<6.0,>=4.2.0->gradio) (0.4)\n",
            "Requirement already satisfied: jsonschema>=3.0 in /usr/local/lib/python3.10/dist-packages (from altair<6.0,>=4.2.0->gradio) (4.19.2)\n",
            "Requirement already satisfied: toolz in /usr/local/lib/python3.10/dist-packages (from altair<6.0,>=4.2.0->gradio) (0.12.1)\n",
            "Requirement already satisfied: anyio in /usr/local/lib/python3.10/dist-packages (from httpx>=0.24.1->gradio) (3.7.1)\n",
            "Requirement already satisfied: certifi in /usr/local/lib/python3.10/dist-packages (from httpx>=0.24.1->gradio) (2024.2.2)\n",
            "Requirement already satisfied: httpcore==1.* in /usr/local/lib/python3.10/dist-packages (from httpx>=0.24.1->gradio) (1.0.5)\n",
            "Requirement already satisfied: idna in /usr/local/lib/python3.10/dist-packages (from httpx>=0.24.1->gradio) (3.7)\n",
            "Requirement already satisfied: sniffio in /usr/local/lib/python3.10/dist-packages (from httpx>=0.24.1->gradio) (1.3.1)\n",
            "Requirement already satisfied: h11<0.15,>=0.13 in /usr/local/lib/python3.10/dist-packages (from httpcore==1.*->httpx>=0.24.1->gradio) (0.14.0)\n",
            "Requirement already satisfied: filelock in /usr/local/lib/python3.10/dist-packages (from huggingface-hub>=0.19.3->gradio) (3.14.0)\n",
            "Requirement already satisfied: requests in /usr/local/lib/python3.10/dist-packages (from huggingface-hub>=0.19.3->gradio) (2.31.0)\n",
            "Requirement already satisfied: tqdm>=4.42.1 in /usr/local/lib/python3.10/dist-packages (from huggingface-hub>=0.19.3->gradio) (4.66.4)\n",
            "Requirement already satisfied: contourpy>=1.0.1 in /usr/local/lib/python3.10/dist-packages (from matplotlib~=3.0->gradio) (1.2.1)\n",
            "Requirement already satisfied: cycler>=0.10 in /usr/local/lib/python3.10/dist-packages (from matplotlib~=3.0->gradio) (0.12.1)\n",
            "Requirement already satisfied: fonttools>=4.22.0 in /usr/local/lib/python3.10/dist-packages (from matplotlib~=3.0->gradio) (4.51.0)\n",
            "Requirement already satisfied: kiwisolver>=1.0.1 in /usr/local/lib/python3.10/dist-packages (from matplotlib~=3.0->gradio) (1.4.5)\n",
            "Requirement already satisfied: pyparsing>=2.3.1 in /usr/local/lib/python3.10/dist-packages (from matplotlib~=3.0->gradio) (3.1.2)\n",
            "Requirement already satisfied: python-dateutil>=2.7 in /usr/local/lib/python3.10/dist-packages (from matplotlib~=3.0->gradio) (2.8.2)\n",
            "Requirement already satisfied: pytz>=2020.1 in /usr/local/lib/python3.10/dist-packages (from pandas<3.0,>=1.0->gradio) (2023.4)\n",
            "Requirement already satisfied: tzdata>=2022.1 in /usr/local/lib/python3.10/dist-packages (from pandas<3.0,>=1.0->gradio) (2024.1)\n",
            "Requirement already satisfied: annotated-types>=0.4.0 in /usr/local/lib/python3.10/dist-packages (from pydantic>=2.0->gradio) (0.6.0)\n",
            "Requirement already satisfied: pydantic-core==2.18.2 in /usr/local/lib/python3.10/dist-packages (from pydantic>=2.0->gradio) (2.18.2)\n",
            "Requirement already satisfied: click>=8.0.0 in /usr/local/lib/python3.10/dist-packages (from typer<1.0,>=0.12->gradio) (8.1.7)\n",
            "Requirement already satisfied: shellingham>=1.3.0 in /usr/local/lib/python3.10/dist-packages (from typer<1.0,>=0.12->gradio) (1.5.4)\n",
            "Requirement already satisfied: rich>=10.11.0 in /usr/local/lib/python3.10/dist-packages (from typer<1.0,>=0.12->gradio) (13.7.1)\n",
            "Requirement already satisfied: starlette<0.38.0,>=0.37.2 in /usr/local/lib/python3.10/dist-packages (from fastapi->gradio) (0.37.2)\n",
            "Requirement already satisfied: fastapi-cli>=0.0.2 in /usr/local/lib/python3.10/dist-packages (from fastapi->gradio) (0.0.4)\n",
            "Requirement already satisfied: ujson!=4.0.2,!=4.1.0,!=4.2.0,!=4.3.0,!=5.0.0,!=5.1.0,>=4.0.1 in /usr/local/lib/python3.10/dist-packages (from fastapi->gradio) (5.10.0)\n",
            "Requirement already satisfied: email_validator>=2.0.0 in /usr/local/lib/python3.10/dist-packages (from fastapi->gradio) (2.1.1)\n",
            "Requirement already satisfied: dnspython>=2.0.0 in /usr/local/lib/python3.10/dist-packages (from email_validator>=2.0.0->fastapi->gradio) (2.6.1)\n",
            "Requirement already satisfied: attrs>=22.2.0 in /usr/local/lib/python3.10/dist-packages (from jsonschema>=3.0->altair<6.0,>=4.2.0->gradio) (23.2.0)\n",
            "Requirement already satisfied: jsonschema-specifications>=2023.03.6 in /usr/local/lib/python3.10/dist-packages (from jsonschema>=3.0->altair<6.0,>=4.2.0->gradio) (2023.12.1)\n",
            "Requirement already satisfied: referencing>=0.28.4 in /usr/local/lib/python3.10/dist-packages (from jsonschema>=3.0->altair<6.0,>=4.2.0->gradio) (0.35.1)\n",
            "Requirement already satisfied: rpds-py>=0.7.1 in /usr/local/lib/python3.10/dist-packages (from jsonschema>=3.0->altair<6.0,>=4.2.0->gradio) (0.18.1)\n",
            "Requirement already satisfied: six>=1.5 in /usr/local/lib/python3.10/dist-packages (from python-dateutil>=2.7->matplotlib~=3.0->gradio) (1.16.0)\n",
            "Requirement already satisfied: markdown-it-py>=2.2.0 in /usr/local/lib/python3.10/dist-packages (from rich>=10.11.0->typer<1.0,>=0.12->gradio) (3.0.0)\n",
            "Requirement already satisfied: pygments<3.0.0,>=2.13.0 in /usr/local/lib/python3.10/dist-packages (from rich>=10.11.0->typer<1.0,>=0.12->gradio) (2.16.1)\n",
            "Requirement already satisfied: exceptiongroup in /usr/local/lib/python3.10/dist-packages (from anyio->httpx>=0.24.1->gradio) (1.2.1)\n",
            "Requirement already satisfied: httptools>=0.5.0 in /usr/local/lib/python3.10/dist-packages (from uvicorn>=0.14.0->gradio) (0.6.1)\n",
            "Requirement already satisfied: python-dotenv>=0.13 in /usr/local/lib/python3.10/dist-packages (from uvicorn>=0.14.0->gradio) (1.0.1)\n",
            "Requirement already satisfied: uvloop!=0.15.0,!=0.15.1,>=0.14.0 in /usr/local/lib/python3.10/dist-packages (from uvicorn>=0.14.0->gradio) (0.19.0)\n",
            "Requirement already satisfied: watchfiles>=0.13 in /usr/local/lib/python3.10/dist-packages (from uvicorn>=0.14.0->gradio) (0.21.0)\n",
            "Requirement already satisfied: charset-normalizer<4,>=2 in /usr/local/lib/python3.10/dist-packages (from requests->huggingface-hub>=0.19.3->gradio) (3.3.2)\n",
            "Requirement already satisfied: mdurl~=0.1 in /usr/local/lib/python3.10/dist-packages (from markdown-it-py>=2.2.0->rich>=10.11.0->typer<1.0,>=0.12->gradio) (0.1.2)\n",
            "Setting queue=True in a Colab notebook requires sharing enabled. Setting `share=True` (you can turn this off by setting `share=False` in `launch()` explicitly).\n",
            "\n",
            "Colab notebook detected. To show errors in colab notebook, set debug=True in launch()\n",
            "Running on public URL: https://155856fbc8bd2c7dea.gradio.live\n",
            "\n",
            "This share link expires in 72 hours. For free permanent hosting and GPU upgrades, run `gradio deploy` from Terminal to deploy to Spaces (https://huggingface.co/spaces)\n"
          ]
        },
        {
          "output_type": "display_data",
          "data": {
            "text/plain": [
              "<IPython.core.display.HTML object>"
            ],
            "text/html": [
              "<div><iframe src=\"https://155856fbc8bd2c7dea.gradio.live\" width=\"100%\" height=\"500\" allow=\"autoplay; camera; microphone; clipboard-read; clipboard-write;\" frameborder=\"0\" allowfullscreen></iframe></div>"
            ]
          },
          "metadata": {}
        },
        {
          "output_type": "execute_result",
          "data": {
            "text/plain": []
          },
          "metadata": {},
          "execution_count": 3
        }
      ],
      "source": [
        "# First, install the gTTS library if you haven't already\n",
        "!pip install gTTS\n",
        "\n",
        "# Import the gTTS library\n",
        "from gtts import gTTS\n",
        "\n",
        "# Import IPython display module\n",
        "from IPython.display import Audio, display\n",
        "\n",
        "# Text to be converted to speech\n",
        "text = \"This is a test message.\"\n",
        "\n",
        "# Language in which you want to convert\n",
        "language = 'en'\n",
        "\n",
        "# Pass the text and language to the gTTS module\n",
        "speech = gTTS(text = text, lang = language, slow = False)\n",
        "\n",
        "# Save the converted audio file\n",
        "speech.save(\"output.mp3\")\n",
        "\n",
        "# Display the audio directly in the notebook\n",
        "display(Audio(\"output.mp3\", autoplay=True))\n",
        "\n",
        "\n",
        "# Install gradio library using !pip install\n",
        "\n",
        "!pip install gradio\n",
        "\n",
        "import gradio as gr\n",
        "from gtts import gTTS\n",
        "import os\n",
        "\n",
        "def text_to_speech(text, language):\n",
        "    # Adjust the language code for the British English accent\n",
        "    tld = 'co.uk' if language == \"British English\" else 'com'\n",
        "    tts = gTTS(text=text, lang='en', tld=tld, slow=False)\n",
        "    tts.save(\"output.mp3\")\n",
        "    return \"output.mp3\"\n",
        "\n",
        "interface = gr.Interface(\n",
        "    fn=text_to_speech,\n",
        "    inputs=[\n",
        "        gr.Textbox(lines=3, label=\"Enter text\"),\n",
        "        gr.Radio(choices=[\"English\", \"British English\"], label=\"Select language\")\n",
        "    ],\n",
        "    outputs=gr.Audio(type=\"filepath\", label=\"Audio\"),\n",
        "    title=\"Text-to-Speech\",\n",
        "    description=\"Type in some text, select a language, and generate audio.\",\n",
        ")\n",
        "\n",
        "interface.launch()\n"
      ]
    }
  ]
}