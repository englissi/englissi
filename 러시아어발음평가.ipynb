{
  "nbformat": 4,
  "nbformat_minor": 0,
  "metadata": {
    "colab": {
      "provenance": [],
      "authorship_tag": "ABX9TyNO7oIhTx/YZf/hTfrf2h99",
      "include_colab_link": true
    },
    "kernelspec": {
      "name": "python3",
      "display_name": "Python 3"
    },
    "language_info": {
      "name": "python"
    }
  },
  "cells": [
    {
      "cell_type": "markdown",
      "metadata": {
        "id": "view-in-github",
        "colab_type": "text"
      },
      "source": [
        "<a href=\"https://colab.research.google.com/github/englissi/englissi/blob/main/%EB%9F%AC%EC%8B%9C%EC%95%84%EC%96%B4%EB%B0%9C%EC%9D%8C%ED%8F%89%EA%B0%80.ipynb\" target=\"_parent\"><img src=\"https://colab.research.google.com/assets/colab-badge.svg\" alt=\"Open In Colab\"/></a>"
      ]
    },
    {
      "cell_type": "code",
      "source": [
        "%%capture\n",
        "!pip install gradio speechrecognition\n",
        "!pip install gradio gtts"
      ],
      "metadata": {
        "id": "oVZ_T-YXtjYY"
      },
      "execution_count": null,
      "outputs": []
    },
    {
      "cell_type": "code",
      "execution_count": null,
      "metadata": {
        "id": "EC6J-UvbtiRH"
      },
      "outputs": [],
      "source": [
        "import gradio as gr\n",
        "from gtts import gTTS\n",
        "import speech_recognition as sr\n",
        "from difflib import SequenceMatcher\n",
        "import tempfile\n",
        "import os\n",
        "\n",
        "def tts_russian(word):\n",
        "    tts = gTTS(text=word, lang='ru')\n",
        "    temp_file_path = tempfile.mktemp(suffix=\".mp3\")\n",
        "    tts.save(temp_file_path)\n",
        "    return temp_file_path\n",
        "\n",
        "def recognize_speech_from_microphone_russian(audio_path):\n",
        "    recognizer = sr.Recognizer()\n",
        "    try:\n",
        "        with sr.AudioFile(audio_path) as source:\n",
        "            audio_data = recognizer.record(source)\n",
        "            text = recognizer.recognize_google(audio_data, language='ru-RU')\n",
        "            return text\n",
        "    except sr.UnknownValueError:\n",
        "        return \"Could not understand the audio\"\n",
        "    except sr.RequestError as e:\n",
        "        return f\"Could not request results from Google Speech Recognition service; {e}\"\n",
        "    except Exception as e:\n",
        "        return str(e)\n",
        "\n",
        "def calculate_similarity_russian(word, recognized_text):\n",
        "    return SequenceMatcher(None, word, recognized_text).ratio() * 100\n",
        "\n",
        "def process_audio_russian(word, audio_path):\n",
        "    recognized_text = recognize_speech_from_microphone_russian(audio_path)\n",
        "    if \"Error\" in recognized_text or \"Could not\" in recognized_text:\n",
        "        return recognized_text, 0.0\n",
        "    similarity = calculate_similarity_russian(word, recognized_text)\n",
        "    return recognized_text, similarity\n",
        "\n",
        "def evaluate_pronunciation_russian(word):\n",
        "    temp_file_path = tts_russian(word)\n",
        "    return temp_file_path\n",
        "\n",
        "def process_all_russian(word, audio_path):\n",
        "    recognized_text, similarity = process_audio_russian(word, audio_path)\n",
        "    return recognized_text, similarity\n",
        "\n",
        "with gr.Blocks() as demo:\n",
        "    with gr.Row():\n",
        "        word_input = gr.Textbox(label=\"Введите слово для оценки произношения\")\n",
        "        tts_button = gr.Button(\"Прослушайте слово\")\n",
        "    tts_audio = gr.Audio(label=\"Оригинальное произношение\", type=\"filepath\")\n",
        "\n",
        "    with gr.Row():\n",
        "        mic_input = gr.Audio(label=\"Ваше произношение\", type=\"filepath\")\n",
        "        result_button = gr.Button(\"Оценить произношение\")\n",
        "\n",
        "    recognized_text = gr.Textbox(label=\"Распознанный текст\")\n",
        "    similarity_score = gr.Number(label=\"Сходство (%)\")\n",
        "\n",
        "    tts_button.click(evaluate_pronunciation_russian, inputs=word_input, outputs=tts_audio)\n",
        "    result_button.click(process_all_russian, inputs=[word_input, mic_input], outputs=[recognized_text, similarity_score])\n",
        "\n",
        "demo.launch()\n"
      ]
    }
  ]
}