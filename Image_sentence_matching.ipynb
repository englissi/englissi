{
  "nbformat": 4,
  "nbformat_minor": 0,
  "metadata": {
    "colab": {
      "provenance": [],
      "authorship_tag": "ABX9TyPj76FhG0OJ2D/sKQAlJSdJ",
      "include_colab_link": true
    },
    "kernelspec": {
      "name": "python3",
      "display_name": "Python 3"
    },
    "language_info": {
      "name": "python"
    }
  },
  "cells": [
    {
      "cell_type": "markdown",
      "metadata": {
        "id": "view-in-github",
        "colab_type": "text"
      },
      "source": [
        "<a href=\"https://colab.research.google.com/github/englissi/englissi/blob/main/Image_sentence_matching.ipynb\" target=\"_parent\"><img src=\"https://colab.research.google.com/assets/colab-badge.svg\" alt=\"Open In Colab\"/></a>"
      ]
    },
    {
      "cell_type": "code",
      "source": [
        "%%capture\n",
        "!pip install gradio"
      ],
      "metadata": {
        "id": "X9mOz4zKUrsv"
      },
      "execution_count": 1,
      "outputs": []
    },
    {
      "cell_type": "code",
      "execution_count": 8,
      "metadata": {
        "colab": {
          "base_uri": "https://localhost:8080/",
          "height": 593
        },
        "id": "LNO7SXExUoqx",
        "outputId": "da185704-62fb-42ed-bdb2-9d75af60e0a9"
      },
      "outputs": [
        {
          "output_type": "stream",
          "name": "stdout",
          "text": [
            "Colab notebook detected. To show errors in colab notebook, set debug=True in launch()\n",
            "Running on public URL: https://9d012cc44f7433a45f.gradio.live\n",
            "\n",
            "This share link expires in 72 hours. For free permanent hosting and GPU upgrades, run `gradio deploy` from Terminal to deploy to Spaces (https://huggingface.co/spaces)\n"
          ]
        },
        {
          "output_type": "display_data",
          "data": {
            "text/plain": [
              "<IPython.core.display.HTML object>"
            ],
            "text/html": [
              "<div><iframe src=\"https://9d012cc44f7433a45f.gradio.live\" width=\"100%\" height=\"500\" allow=\"autoplay; camera; microphone; clipboard-read; clipboard-write;\" frameborder=\"0\" allowfullscreen></iframe></div>"
            ]
          },
          "metadata": {}
        },
        {
          "output_type": "execute_result",
          "data": {
            "text/plain": []
          },
          "metadata": {},
          "execution_count": 8
        }
      ],
      "source": [
        "\n",
        "import gradio as gr\n",
        "import random\n",
        "\n",
        "# Define images and corresponding sentences\n",
        "images_and_sentences = [\n",
        "    {\n",
        "        \"image\": \"https://raw.githubusercontent.com/englissi/englissi/main/Sample/DALL%C2%B7E%202024-05-22%2003.13.18%20-%20A%20digital%20illustration%20of%20the%20village%20of%20Echo%20Ridge%20nestled%20among%20towering%20peaks.%20The%20village%20has%20quaint%20houses%20with%20thatched%20roofs%2C%20surrounded%20by%20lus.webp\",\n",
        "        \"sentence\": \"This is the village of Echo Ridge.\"\n",
        "    },\n",
        "    {\n",
        "        \"image\": \"https://raw.githubusercontent.com/englissi/englissi/main/Sample/DALL%C2%B7E%202024-05-22%2003.11.54%20-%20A%20digital%20illustration%20of%20the%20Guardian%20of%20the%20Glen%2C%20a%20massive%20eagle%2C%20perched%20high%20in%20the%20mountains%20overlooking%20a%20small%20mountain%20village.%20The%20eagle%20is%20.webp\",\n",
        "        \"sentence\": \"This is the Guardian of the Glen, a massive eagle.\"\n",
        "    },\n",
        "    {\n",
        "        \"image\": \"https://raw.githubusercontent.com/englissi/englissi/main/Sample/DALL%C2%B7E%202024-05-22%2003.11.57%20-%20A%20digital%20illustration%20of%20a%20bright-eyed%20eighth%20grader%20named%20Alex%20finding%20an%20ancient%20map%20in%20a%20dimly%20lit%20library.%20The%20map%20is%20tucked%20inside%20a%20forgotten%20b.webp\",\n",
        "        \"sentence\": \"Alex found an ancient map in the library.\"\n",
        "    },\n",
        "    {\n",
        "        \"image\": \"https://raw.githubusercontent.com/englissi/englissi/main/Sample/DALL%C2%B7E%202024-05-22%2003.12.00%20-%20A%20digital%20illustration%20of%20the%20treasure%20hidden%20in%20Whispering%20Hollow.%20The%20cave%20is%20filled%20with%20intricate%20stalactites%20and%20echoes%20of%20dripping%20water%2C%20with%20t.webp\",\n",
        "        \"sentence\": \"The treasure was hidden in Whispering Hollow.\"\n",
        "    },\n",
        "    {\n",
        "        \"image\": \"https://raw.githubusercontent.com/englissi/englissi/main/Sample/DALL%C2%B7E%202024-05-22%2003.12.03%20-%20A%20digital%20illustration%20of%20old%20artifacts%20inside%20an%20ancient%20chest.%20The%20chest%20is%20filled%20with%20pottery%2C%20coins%2C%20and%20a%20beautifully%20carved%20statuette%20of%20an%20eag.webp\",\n",
        "        \"sentence\": \"They found old artifacts inside the ancient chest.\"\n",
        "    },\n",
        "]\n",
        "\n",
        "# Shuffle the images and sentences\n",
        "random.shuffle(images_and_sentences)\n",
        "\n",
        "# Extract the sentences\n",
        "sentences = [item[\"sentence\"] for item in images_and_sentences]\n",
        "\n",
        "# Function to check the answer\n",
        "def check_answer(state, selected_sentence):\n",
        "    image_index = state[\"current_index\"] - 1\n",
        "    correct_sentence = images_and_sentences[image_index][\"sentence\"]\n",
        "    if selected_sentence == correct_sentence:\n",
        "        state[\"score\"] += 1\n",
        "        feedback = \"Correct!\"\n",
        "    else:\n",
        "        feedback = f\"Incorrect. The correct answer is: {correct_sentence}\"\n",
        "    return state, feedback\n",
        "\n",
        "# Function to start the game\n",
        "def start_game():\n",
        "    state = {\"current_index\": 0, \"score\": 0}\n",
        "    state, image_update, dropdown_update, button_update, feedback_update = load_next(state)\n",
        "    return state, image_update, dropdown_update, button_update, feedback_update, gr.update(visible=True)\n",
        "\n",
        "# Function to load the next image and sentence\n",
        "def load_next(state):\n",
        "    current_index = state[\"current_index\"]\n",
        "    if current_index >= len(images_and_sentences):\n",
        "        return state, gr.update(visible=False), gr.update(visible=False), gr.update(visible=False), gr.update(value=f\"Game Over! Your score: {state['score']} out of {len(images_and_sentences)}\", visible=True)\n",
        "\n",
        "    image = images_and_sentences[current_index][\"image\"]\n",
        "    current_index += 1\n",
        "    state[\"current_index\"] = current_index\n",
        "    return state, gr.update(value=image, visible=True), gr.update(choices=sentences, value=None, visible=True), gr.update(visible=True), gr.update(value=\"\")\n",
        "\n",
        "# Create the Gradio interface\n",
        "with gr.Blocks() as iface:\n",
        "    state = gr.State()\n",
        "\n",
        "    gr.Markdown(\"# Image Matching Game\")\n",
        "\n",
        "    with gr.Row():\n",
        "        with gr.Column():\n",
        "            image_display = gr.Image(interactive=False, visible=False)\n",
        "        with gr.Column():\n",
        "            sentence_dropdown = gr.Dropdown(label=\"Select the matching sentence\", choices=[], visible=False)\n",
        "            check_button = gr.Button(\"Check Answer\", visible=False)\n",
        "            feedback_output = gr.Textbox(label=\"Feedback\", interactive=False)\n",
        "            next_button = gr.Button(\"Next\", visible=False)\n",
        "\n",
        "    start_button = gr.Button(\"Start Game\")\n",
        "\n",
        "    start_button.click(start_game, outputs=[state, image_display, sentence_dropdown, check_button, feedback_output, next_button])\n",
        "    check_button.click(check_answer, inputs=[state, sentence_dropdown], outputs=[state, feedback_output])\n",
        "    next_button.click(load_next, inputs=state, outputs=[state, image_display, sentence_dropdown, check_button, feedback_output])\n",
        "\n",
        "iface.launch(share=True)\n"
      ]
    }
  ]
}