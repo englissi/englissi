{
  "nbformat": 4,
  "nbformat_minor": 0,
  "metadata": {
    "colab": {
      "provenance": [],
      "authorship_tag": "ABX9TyNLNjUV1xaODCGtF2KpAvZz",
      "include_colab_link": true
    },
    "kernelspec": {
      "name": "python3",
      "display_name": "Python 3"
    },
    "language_info": {
      "name": "python"
    }
  },
  "cells": [
    {
      "cell_type": "markdown",
      "metadata": {
        "id": "view-in-github",
        "colab_type": "text"
      },
      "source": [
        "<a href=\"https://colab.research.google.com/github/englissi/englissi/blob/main/Image_sentence_matching.ipynb\" target=\"_parent\"><img src=\"https://colab.research.google.com/assets/colab-badge.svg\" alt=\"Open In Colab\"/></a>"
      ]
    },
    {
      "cell_type": "code",
      "source": [
        "%%capture\n",
        "!pip install gradio"
      ],
      "metadata": {
        "id": "X9mOz4zKUrsv"
      },
      "execution_count": 3,
      "outputs": []
    },
    {
      "cell_type": "code",
      "execution_count": 6,
      "metadata": {
        "colab": {
          "base_uri": "https://localhost:8080/",
          "height": 613
        },
        "id": "LNO7SXExUoqx",
        "outputId": "7a343816-d05e-49a1-e167-d75dbf7c5ed3"
      },
      "outputs": [
        {
          "output_type": "stream",
          "name": "stdout",
          "text": [
            "Colab notebook detected. To show errors in colab notebook, set debug=True in launch()\n",
            "Running on public URL: https://4157eaace27fa2a6aa.gradio.live\n",
            "\n",
            "This share link expires in 72 hours. For free permanent hosting and GPU upgrades, run `gradio deploy` from Terminal to deploy to Spaces (https://huggingface.co/spaces)\n"
          ]
        },
        {
          "output_type": "display_data",
          "data": {
            "text/plain": [
              "<IPython.core.display.HTML object>"
            ],
            "text/html": [
              "<div><iframe src=\"https://4157eaace27fa2a6aa.gradio.live\" width=\"100%\" height=\"500\" allow=\"autoplay; camera; microphone; clipboard-read; clipboard-write;\" frameborder=\"0\" allowfullscreen></iframe></div>"
            ]
          },
          "metadata": {}
        },
        {
          "output_type": "execute_result",
          "data": {
            "text/plain": []
          },
          "metadata": {},
          "execution_count": 6
        }
      ],
      "source": [
        "import gradio as gr\n",
        "import random\n",
        "\n",
        "# Define images and corresponding sentences\n",
        "images_and_sentences = [\n",
        "    {\n",
        "        \"image\": \"https://github.com/englissi/englissi/blob/50d9929733127eac7a1af77272d5efdc68762994/Sample/DALL%C2%B7E%202024-06-03%2010.07.15%20-%20A%20picturesque%20small%20mountain%20village%20called%20Echo%20Ridge%2C%20nestled%20among%20towering%20peaks%20with%20a%20hint%20of%20adventure%20in%20the%20air.%20Villagers%20can%20be%20seen%20going%20.webp?raw=true\",\n",
        "        \"sentence\": \"In the small mountain village of Echo Ridge, adventure was a part of everyday life.\"\n",
        "    },\n",
        "    {\n",
        "        \"image\": \"https://github.com/englissi/englissi/blob/50d9929733127eac7a1af77272d5efdc68762994/Sample/DALL%C2%B7E%202024-06-03%2010.07.18%20-%20A%20young%20boy%20named%20Alex%20finding%20an%20ancient%20map%20tucked%20inside%20a%20forgotten%20book%20in%20a%20small%2C%20cozy%20library%20filled%20with%20old%20books%20and%20wooden%20shelves.webp?raw=true\",\n",
        "        \"sentence\": \"One day, while exploring the local library, Alex stumbled upon an ancient map tucked inside a forgotten book on village lore.\"\n",
        "    },\n",
        "    {\n",
        "        \"image\": \"https://github.com/englissi/englissi/blob/50d9929733127eac7a1af77272d5efdc68762994/Sample/DALL%C2%B7E%202024-06-03%2010.07.23%20-%20Three%20kids%2C%20Alex%2C%20Mia%2C%20and%20Sam%2C%20preparing%20for%20an%20expedition.%20They%20are%20packing%20supplies%20and%20studying%20a%20map%2C%20with%20a%20background%20of%20a%20small%20cozy%20room%20with.webp?raw=true\",\n",
        "        \"sentence\": \"Knowing the journey would be risky, he enlisted the help of his best friends, Mia and Sam.\"\n",
        "    },\n",
        "    {\n",
        "        \"image\": \"https://github.com/englissi/englissi/blob/50d9929733127eac7a1af77272d5efdc68762994/Sample/DALL%C2%B7E%202024-06-03%2010.07.43%20-%20Three%20kids%2C%20Alex%2C%20Mia%2C%20and%20Sam%2C%20beginning%20their%20journey%20at%20dawn.%20They%20are%20trekking%20through%20dense%20forests%2C%20crossing%20rushing%20streams%2C%20and%20climbing%20steep.webp?raw=true\",\n",
        "        \"sentence\": \"Their journey began at dawn. They trekked through dense forests, crossed rushing streams, and climbed steep cliffs.\"\n",
        "    },\n",
        "    {\n",
        "        \"image\": \"https://github.com/englissi/englissi/blob/50d9929733127eac7a1af77272d5efdc68762994/Sample/DALL%C2%B7E%202024-06-03%2010.08.00%20-%20Three%20kids%2C%20Alex%2C%20Mia%2C%20and%20Sam%2C%20reaching%20Whispering%20Hollow%20after%20hours%20of%20hiking.%20They%20are%20standing%20at%20the%20entrance%20of%20a%20magnificent%20cave%2C%20surrounded%20.webp?raw=true\",\n",
        "        \"sentence\": \"After hours of hiking, they finally reached Whispering Hollow.\"\n",
        "    },\n",
        "    {\n",
        "        \"image\": \"https://github.com/englissi/englissi/blob/50d9929733127eac7a1af77272d5efdc68762994/Sample/DALL%C2%B7E%202024-06-03%2010.08.09%20-%20Three%20kids%2C%20Alex%2C%20Mia%2C%20and%20Sam%2C%20exploring%20the%20cave%20with%20flashlights.%20They%20are%20venturing%20deeper%20into%20the%20cave%2C%20guided%20by%20the%20markings%20on%20the%20map%2C%20surro.webp?raw=true\",\n",
        "        \"sentence\": \"Using their flashlights, they ventured deeper into the cave, guided by the markings on the map.\"\n",
        "    },\n",
        "    {\n",
        "        \"image\": \"https://github.com/englissi/englissi/blob/50d9929733127eac7a1af77272d5efdc68762994/Sample/DALL%C2%B7E%202024-06-03%2010.08.30%20-%20Three%20kids%2C%20Alex%2C%20Mia%2C%20and%20Sam%2C%20discovering%20an%20ancient%20chest%20hidden%20behind%20a%20fallen%20boulder%20in%20the%20heart%20of%20the%20cave.%20They%20are%20moving%20the%20boulder%20and%20.webp?raw=true\",\n",
        "        \"sentence\": \"As they reached the heart of the cave, they discovered an ancient chest hidden behind a fallen boulder.\"\n",
        "    },\n",
        "    {\n",
        "        \"image\": \"https://github.com/englissi/englissi/blob/50d9929733127eac7a1af77272d5efdc68762994/Sample/DALL%C2%B7E%202024-06-03%2010.08.44%20-%20The%20village%20of%20Echo%20Ridge%20celebrating%20the%20discovery%20of%20the%20artifacts.%20The%20children%2C%20Alex%2C%20Mia%2C%20and%20Sam%2C%20are%20being%20hailed%20as%20heroes%2C%20with%20villagers%20che.webp?raw=true\",\n",
        "        \"sentence\": \"The village celebrated their discovery, and the children were hailed as heroes.\"\n",
        "    },\n",
        "]\n",
        "\n",
        "# Shuffle the images and sentences\n",
        "random.shuffle(images_and_sentences)\n",
        "\n",
        "# Function to get shuffled sentences\n",
        "def get_shuffled_sentences():\n",
        "    sentences = [item[\"sentence\"] for item in images_and_sentences]\n",
        "    random.shuffle(sentences)\n",
        "    return sentences\n",
        "\n",
        "# Function to check the answer\n",
        "def check_answer(state, selected_sentence):\n",
        "    image_index = state[\"current_index\"] - 1\n",
        "    correct_sentence = images_and_sentences[image_index][\"sentence\"]\n",
        "    if selected_sentence == correct_sentence:\n",
        "        state[\"score\"] += 1\n",
        "        feedback = \"Correct!\"\n",
        "    else:\n",
        "        feedback = f\"Incorrect. The correct answer is: {correct_sentence}\"\n",
        "    return state, feedback\n",
        "\n",
        "# Function to start the game\n",
        "def start_game():\n",
        "    state = {\"current_index\": 0, \"score\": 0}\n",
        "    state, image_update, dropdown_update, button_update, feedback_update = load_next(state)\n",
        "    return state, image_update, dropdown_update, button_update, feedback_update, gr.update(visible=True)\n",
        "\n",
        "# Function to load the next image and sentence\n",
        "def load_next(state):\n",
        "    current_index = state[\"current_index\"]\n",
        "    if current_index >= len(images_and_sentences):\n",
        "        return state, gr.update(visible=False), gr.update(visible=False), gr.update(visible=False), gr.update(value=f\"Game Over! Your score: {state['score']} out of {len(images_and_sentences)}\", visible=True)\n",
        "\n",
        "    image = images_and_sentences[current_index][\"image\"]\n",
        "    current_index += 1\n",
        "    state[\"current_index\"] = current_index\n",
        "    return state, gr.update(value=image, visible=True), gr.update(choices=get_shuffled_sentences(), value=None, visible=True), gr.update(visible=True), gr.update(value=\"\")\n",
        "\n",
        "# Create the Gradio interface\n",
        "with gr.Blocks() as iface:\n",
        "    state = gr.State()\n",
        "\n",
        "    gr.Markdown(\"# Image Matching Game\")\n",
        "\n",
        "    with gr.Row():\n",
        "        with gr.Column():\n",
        "            image_display = gr.Image(interactive=False, visible=False)\n",
        "        with gr.Column():\n",
        "            sentence_dropdown = gr.Dropdown(label=\"Select the matching sentence\", choices=[], visible=False)\n",
        "            check_button = gr.Button(\"Check Answer\", visible=False)\n",
        "            feedback_output = gr.Textbox(label=\"Feedback\", interactive=False)\n",
        "            next_button = gr.Button(\"Next\", visible=False)\n",
        "\n",
        "    start_button = gr.Button(\"Start Game\")\n",
        "\n",
        "    start_button.click(start_game, outputs=[state, image_display, sentence_dropdown, check_button, feedback_output, next_button])\n",
        "    check_button.click(check_answer, inputs=[state, sentence_dropdown], outputs=[state, feedback_output])\n",
        "    next_button.click(load_next, inputs=state, outputs=[state, image_display, sentence_dropdown, check_button, feedback_output])\n",
        "\n",
        "iface.launch(share=True)\n"
      ]
    }
  ]
}