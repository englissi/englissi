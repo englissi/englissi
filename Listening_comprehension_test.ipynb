{
  "nbformat": 4,
  "nbformat_minor": 0,
  "metadata": {
    "colab": {
      "provenance": [],
      "authorship_tag": "ABX9TyNTwe7TW7oD1M8yl6B+TdpE",
      "include_colab_link": true
    },
    "kernelspec": {
      "name": "python3",
      "display_name": "Python 3"
    },
    "language_info": {
      "name": "python"
    }
  },
  "cells": [
    {
      "cell_type": "markdown",
      "metadata": {
        "id": "view-in-github",
        "colab_type": "text"
      },
      "source": [
        "<a href=\"https://colab.research.google.com/github/englissi/englissi/blob/main/Listening_comprehension_test.ipynb\" target=\"_parent\"><img src=\"https://colab.research.google.com/assets/colab-badge.svg\" alt=\"Open In Colab\"/></a>"
      ]
    },
    {
      "cell_type": "markdown",
      "source": [
        "## Listening comprehension test"
      ],
      "metadata": {
        "id": "mVGpWufgff6g"
      }
    },
    {
      "cell_type": "code",
      "execution_count": 11,
      "metadata": {
        "id": "SwcPCV4ne02z"
      },
      "outputs": [],
      "source": [
        "%%capture\n",
        "!pip install gradio"
      ]
    },
    {
      "cell_type": "code",
      "source": [
        "%%capture\n",
        "# First, install the gTTS library if you haven't already\n",
        "!pip install gTTS\n",
        "\n",
        "# Import the gTTS library\n",
        "from gtts import gTTS\n"
      ],
      "metadata": {
        "id": "qlzRBUDBEynr"
      },
      "execution_count": 13,
      "outputs": []
    },
    {
      "cell_type": "code",
      "source": [
        "import gradio as gr\n",
        "import requests\n",
        "from gtts import gTTS\n",
        "import os\n",
        "\n",
        "# Fetch the story from the URL\n",
        "story_url = \"https://raw.githubusercontent.com/MK316/Spring2024/main/DLTESOL/project/story02.txt\"\n",
        "story = requests.get(story_url).text\n",
        "\n",
        "# Define the listening comprehension questions\n",
        "questions = [\n",
        "    {\n",
        "        \"question\": \"1. What inspired many adventurous tales among the villagers of Echo Ridge?\",\n",
        "        \"options\": [\"The towering peaks\", \"The Guardian of the Glen\", \"The ancient maps\", \"The village lore\"],\n",
        "        \"answer\": \"The Guardian of the Glen\"\n",
        "    },\n",
        "    {\n",
        "        \"question\": \"2. What did Alex stumble upon in the local library?\",\n",
        "        \"options\": [\"A hidden door\", \"An ancient map\", \"A magical book\", \"A forgotten diary\"],\n",
        "        \"answer\": \"An ancient map\"\n",
        "    },\n",
        "    {\n",
        "        \"question\": \"3. Who accompanied Alex on his adventure to find the treasure?\",\n",
        "        \"options\": [\"His siblings\", \"His best friends Mia and Sam\", \"His dog\", \"His teacher\"],\n",
        "        \"answer\": \"His best friends Mia and Sam\"\n",
        "    },\n",
        "    {\n",
        "        \"question\": \"4. What did Alex and his friends find inside the ancient chest?\",\n",
        "        \"options\": [\"Gold and jewels\", \"Old artifacts and a carved eagle statuette\", \"A magical spell book\", \"A map to another treasure\"],\n",
        "        \"answer\": \"Old artifacts and a carved eagle statuette\"\n",
        "    },\n",
        "    {\n",
        "        \"question\": \"5. How did the village react to the children's discovery?\",\n",
        "        \"options\": [\"They ignored it\", \"They celebrated and hailed the children as heroes\", \"They were frightened\", \"They wanted to keep the artifacts\"],\n",
        "        \"answer\": \"They celebrated and hailed the children as heroes\"\n",
        "    },\n",
        "    {\n",
        "        \"question\": \"6. What did the legend of the Guardian of the Glen come to symbolize?\",\n",
        "        \"options\": [\"Wealth and prosperity\", \"Danger and fear\", \"Adventure and discovery\", \"Peace and tranquility\"],\n",
        "        \"answer\": \"Adventure and discovery\"\n",
        "    }\n",
        "]\n",
        "\n",
        "# Function to convert text to speech and save as an audio file\n",
        "def text_to_speech(text, filename):\n",
        "    tts = gTTS(text)\n",
        "    tts.save(filename)\n",
        "    return filename\n",
        "\n",
        "# Generate audio files for questions\n",
        "for i, question in enumerate(questions):\n",
        "    audio_filename = f\"question_{i+1}.mp3\"\n",
        "    question[\"audio\"] = text_to_speech(question[\"question\"], audio_filename)\n",
        "\n",
        "# Function to handle the quiz\n",
        "def quiz(question_index, user_answer, score, incorrect):\n",
        "    if question_index >= 0:\n",
        "        question = questions[question_index]\n",
        "        if user_answer == question[\"answer\"]:\n",
        "            score += 1\n",
        "        else:\n",
        "            incorrect.append(f\"Question {question_index + 1}: {question['question']}\\nCorrect answer: {question['answer']}\")\n",
        "        question_index += 1\n",
        "\n",
        "    if question_index < len(questions):\n",
        "        return (\n",
        "            question_index,\n",
        "            score,\n",
        "            incorrect,\n",
        "            gr.update(value=questions[question_index][\"audio\"], visible=True),\n",
        "            gr.update(choices=questions[question_index][\"options\"], value=None, visible=True),\n",
        "            gr.update(visible=True),\n",
        "            gr.update(visible=False)\n",
        "        )\n",
        "    else:\n",
        "        results = \"\\n\".join(incorrect)\n",
        "        return (\n",
        "            -1,\n",
        "            score,\n",
        "            incorrect,\n",
        "            gr.update(visible=False),\n",
        "            gr.update(visible=False),\n",
        "            gr.update(visible=False),\n",
        "            gr.update(visible=True, value=f\"Your score: {score}\\n\\n{results}\")\n",
        "        )\n",
        "\n",
        "# Prepare the initial question audio and options\n",
        "initial_audio = questions[0][\"audio\"]\n",
        "initial_options = questions[0][\"options\"]\n",
        "\n",
        "# Create the Gradio interface\n",
        "with gr.Blocks() as iface:\n",
        "    gr.Markdown(\"## The Guardian's Secret\")\n",
        "\n",
        "    question_index = gr.State(0)\n",
        "    score = gr.State(0)\n",
        "    incorrect = gr.State([])\n",
        "\n",
        "    audio_output = gr.Audio(value=initial_audio, autoplay=False, label=\"\")\n",
        "    options = gr.Radio(choices=initial_options, label=\"Your Answer\")\n",
        "    next_button = gr.Button(\"Next\")\n",
        "\n",
        "    final_score = gr.Textbox(label=\"Final Score\", visible=False)\n",
        "\n",
        "    next_button.click(\n",
        "        quiz,\n",
        "        [question_index, options, score, incorrect],\n",
        "        [question_index, score, incorrect, audio_output, options, next_button, final_score]\n",
        "    )\n",
        "\n",
        "# Launch the interface\n",
        "iface.launch(share=True)\n",
        "\n",
        "\n",
        "\n"
      ],
      "metadata": {
        "colab": {
          "base_uri": "https://localhost:8080/",
          "height": 593
        },
        "id": "9gVFrkaZfkFq",
        "outputId": "f73ac604-d9a8-461e-896c-b24774358db9"
      },
      "execution_count": 19,
      "outputs": [
        {
          "output_type": "stream",
          "name": "stdout",
          "text": [
            "Colab notebook detected. To show errors in colab notebook, set debug=True in launch()\n",
            "Running on public URL: https://47bab5f61e5f820be8.gradio.live\n",
            "\n",
            "This share link expires in 72 hours. For free permanent hosting and GPU upgrades, run `gradio deploy` from Terminal to deploy to Spaces (https://huggingface.co/spaces)\n"
          ]
        },
        {
          "output_type": "display_data",
          "data": {
            "text/plain": [
              "<IPython.core.display.HTML object>"
            ],
            "text/html": [
              "<div><iframe src=\"https://47bab5f61e5f820be8.gradio.live\" width=\"100%\" height=\"500\" allow=\"autoplay; camera; microphone; clipboard-read; clipboard-write;\" frameborder=\"0\" allowfullscreen></iframe></div>"
            ]
          },
          "metadata": {}
        },
        {
          "output_type": "execute_result",
          "data": {
            "text/plain": []
          },
          "metadata": {},
          "execution_count": 19
        }
      ]
    }
  ]
}