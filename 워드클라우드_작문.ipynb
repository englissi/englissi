{
  "nbformat": 4,
  "nbformat_minor": 0,
  "metadata": {
    "colab": {
      "provenance": [],
      "authorship_tag": "ABX9TyNWAsabfothODrc5S+uACfz",
      "include_colab_link": true
    },
    "kernelspec": {
      "name": "python3",
      "display_name": "Python 3"
    },
    "language_info": {
      "name": "python"
    }
  },
  "cells": [
    {
      "cell_type": "markdown",
      "metadata": {
        "id": "view-in-github",
        "colab_type": "text"
      },
      "source": [
        "<a href=\"https://colab.research.google.com/github/englissi/englissi/blob/main/%EC%9B%8C%EB%93%9C%ED%81%B4%EB%9D%BC%EC%9A%B0%EB%93%9C_%EC%9E%91%EB%AC%B8.ipynb\" target=\"_parent\"><img src=\"https://colab.research.google.com/assets/colab-badge.svg\" alt=\"Open In Colab\"/></a>"
      ]
    },
    {
      "cell_type": "code",
      "execution_count": 11,
      "metadata": {
        "id": "Felo3G7Pz_VU"
      },
      "outputs": [],
      "source": [
        "%%capture\n",
        "!pip install gradio"
      ]
    },
    {
      "cell_type": "code",
      "source": [
        "import gradio as gr\n",
        "\n",
        "# Define images and corresponding titles and original sentences\n",
        "images_and_titles = [\n",
        "    {\n",
        "        \"title\": \"1. Echo Ridge Village\",\n",
        "        \"image\": \"https://github.com/englissi/englissi/blob/00d4ac2ab7d8b88169af3afe332897db02056a28/Sample/wordcloud_Echo%20Ridge%20Village.png?raw=true\",\n",
        "        \"sentence\": \"In the small mountain village of Echo Ridge, adventure was a part of everyday life.\"\n",
        "    },\n",
        "    {\n",
        "        \"title\": \"2. Alex finding the map\",\n",
        "        \"image\": \"https://github.com/englissi/englissi/blob/00d4ac2ab7d8b88169af3afe332897db02056a28/Sample/wordcloud_Alex%20Finding%20the%20map.png?raw=true\",\n",
        "        \"sentence\": \"One day, while exploring the local library, Alex stumbled upon an ancient map tucked inside a forgotten book on village lore.\"\n",
        "    },\n",
        "    {\n",
        "        \"title\": \"3. Alex, Mia, and Sam preparing for the expedition\",\n",
        "        \"image\": \"https://github.com/englissi/englissi/blob/00d4ac2ab7d8b88169af3afe332897db02056a28/Sample/wordcloud_Preparing%20for%20the%20expedition.png?raw=true\",\n",
        "        \"sentence\": \"Knowing the journey would be risky, he enlisted the help of his best friends, Mia and Sam.\"\n",
        "    },\n",
        "    {\n",
        "        \"title\": \"4. The journey begins at dawn\",\n",
        "        \"image\": \"https://github.com/englissi/englissi/blob/00d4ac2ab7d8b88169af3afe332897db02056a28/Sample/wordcloud_Journey%20begins%20at%20dawn.png?raw=true\",\n",
        "        \"sentence\": \"Their journey began at dawn. They trekked through dense forests, crossed rushing streams, and climbed steep cliffs.\"\n",
        "    },\n",
        "    {\n",
        "        \"title\": \"5. Reaching Whispering Hollow\",\n",
        "        \"image\": \"https://github.com/englissi/englissi/blob/00d4ac2ab7d8b88169af3afe332897db02056a28/Sample/wordcloud_Reaching%20whispering%20hollow.png?raw=true\",\n",
        "        \"sentence\": \"After hours of hiking, they finally reached Whispering Hollow.\"\n",
        "    },\n",
        "    {\n",
        "        \"title\": \"6. Exploring the cave\",\n",
        "        \"image\": \"https://github.com/englissi/englissi/blob/00d4ac2ab7d8b88169af3afe332897db02056a28/Sample/wordcloud_Exploring%20the%20cave.png?raw=true\",\n",
        "        \"sentence\": \"Using their flashlights, they ventured deeper into the cave, guided by the markings on the map.\"\n",
        "    },\n",
        "    {\n",
        "        \"title\": \"7. Finding the ancient chest\",\n",
        "        \"image\": \"https://github.com/englissi/englissi/blob/00d4ac2ab7d8b88169af3afe332897db02056a28/Sample/wordcloud_Finding%20the%20ancient%20chest.png?raw=true\",\n",
        "        \"sentence\": \"As they reached the heart of the cave, they discovered an ancient chest hidden behind a fallen boulder.\"\n",
        "    },\n",
        "    {\n",
        "        \"title\": \"8. Village celebration\",\n",
        "        \"image\": \"https://github.com/englissi/englissi/blob/00d4ac2ab7d8b88169af3afe332897db02056a28/Sample/wordcloud_Village%20celebration.png?raw=true\",\n",
        "        \"sentence\": \"The village celebrated their discovery, and the children were hailed as heroes.\"\n",
        "    }\n",
        "]\n",
        "\n",
        "# Function to collect student's sentences\n",
        "def collect_sentences(*sentences):\n",
        "    return list(sentences)\n",
        "\n",
        "# Function to compare student's sentences with original sentences\n",
        "def compare_sentences(sentences):\n",
        "    comparisons = []\n",
        "    for i, item in enumerate(images_and_titles):\n",
        "        comparisons.append(f\"**{item['title']}**\\n\\n**Your Sentence:** {sentences[i]}\\n\\n**Original Sentence:** {item['sentence']}\\n\\n\")\n",
        "    return \"\\n\".join(comparisons)\n",
        "\n",
        "# Function to show the student's final story\n",
        "def show_final_story(sentences):\n",
        "    return \"\\n\".join(sentences)\n",
        "\n",
        "# Create the Gradio interface\n",
        "with gr.Blocks() as iface:\n",
        "    gr.Markdown(\"# The Guardian's Secret: Rewriting Exercise\")\n",
        "\n",
        "    sentence_inputs = []\n",
        "    for item in images_and_titles:\n",
        "        with gr.Row():\n",
        "            gr.Markdown(f\"### {item['title']}\")\n",
        "            gr.Image(value=item['image'], interactive=False)\n",
        "            sentence_input = gr.Textbox(label=\"Your Sentence\", interactive=True)\n",
        "            sentence_inputs.append(sentence_input)\n",
        "\n",
        "    finish_button = gr.Button(\"Finish\")\n",
        "    comparison_output = gr.Markdown(visible=False)\n",
        "    final_story_output = gr.Markdown(visible=False)\n",
        "\n",
        "    def on_finish(*sentences):\n",
        "        collected_sentences = collect_sentences(*sentences)\n",
        "        comparison = compare_sentences(collected_sentences)\n",
        "        final_story = show_final_story(collected_sentences)\n",
        "        return gr.update(visible=True, value=comparison), gr.update(visible=True, value=final_story)\n",
        "\n",
        "    finish_button.click(fn=on_finish, inputs=sentence_inputs, outputs=[comparison_output, final_story_output])\n",
        "\n",
        "    iface.launch()\n"
      ],
      "metadata": {
        "colab": {
          "base_uri": "https://localhost:8080/",
          "height": 629
        },
        "id": "w7SyQyeQ0wBm",
        "outputId": "bcbaccb5-a27a-4170-8ea6-d01bdc0b5603"
      },
      "execution_count": 38,
      "outputs": [
        {
          "output_type": "stream",
          "name": "stdout",
          "text": [
            "Setting queue=True in a Colab notebook requires sharing enabled. Setting `share=True` (you can turn this off by setting `share=False` in `launch()` explicitly).\n",
            "\n",
            "Colab notebook detected. To show errors in colab notebook, set debug=True in launch()\n",
            "Running on public URL: https://2722d6247eb2357b14.gradio.live\n",
            "\n",
            "This share link expires in 72 hours. For free permanent hosting and GPU upgrades, run `gradio deploy` from Terminal to deploy to Spaces (https://huggingface.co/spaces)\n"
          ]
        },
        {
          "output_type": "display_data",
          "data": {
            "text/plain": [
              "<IPython.core.display.HTML object>"
            ],
            "text/html": [
              "<div><iframe src=\"https://2722d6247eb2357b14.gradio.live\" width=\"100%\" height=\"500\" allow=\"autoplay; camera; microphone; clipboard-read; clipboard-write;\" frameborder=\"0\" allowfullscreen></iframe></div>"
            ]
          },
          "metadata": {}
        }
      ]
    }
  ]
}