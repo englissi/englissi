{
  "nbformat": 4,
  "nbformat_minor": 0,
  "metadata": {
    "colab": {
      "provenance": [],
      "authorship_tag": "ABX9TyPraIAt+OIsrN9GNx7GLmjT",
      "include_colab_link": true
    },
    "kernelspec": {
      "name": "python3",
      "display_name": "Python 3"
    },
    "language_info": {
      "name": "python"
    }
  },
  "cells": [
    {
      "cell_type": "markdown",
      "metadata": {
        "id": "view-in-github",
        "colab_type": "text"
      },
      "source": [
        "<a href=\"https://colab.research.google.com/github/englissi/englissi/blob/main/ph%EB%8B%A8%EB%AA%A8%EC%9D%8Cproto.ipynb\" target=\"_parent\"><img src=\"https://colab.research.google.com/assets/colab-badge.svg\" alt=\"Open In Colab\"/></a>"
      ]
    },
    {
      "cell_type": "code",
      "execution_count": 5,
      "metadata": {
        "id": "LGQKR_FRyL2I"
      },
      "outputs": [],
      "source": [
        "%%capture\n",
        "!pip install gradio gtts\n",
        "\n",
        "\n"
      ]
    },
    {
      "cell_type": "code",
      "source": [
        "import os\n",
        "from gtts import gTTS\n",
        "import gradio as gr\n",
        "\n",
        "# 음성 파일 생성 함수\n",
        "def create_tts_audio(text, lang='en', filename='output.mp3', slow=False):\n",
        "    tts = gTTS(text=text, lang=lang, slow=slow)\n",
        "    tts.save(filename)\n",
        "    return filename\n",
        "\n",
        "# 각 모음에 대한 예문\n",
        "vowel_examples = {\n",
        "    'a': 'apple',\n",
        "    'e': 'elephant',\n",
        "    'i': 'iguana',\n",
        "    'o': 'orange',\n",
        "    'u': 'umbrella'\n",
        "}\n",
        "\n",
        "# 단어 철자 인지 예제\n",
        "spelling_examples = {\n",
        "    'bat': 'bat',\n",
        "    'cat': 'cat',\n",
        "    'dog': 'dog',\n",
        "    'hat': 'hat',\n",
        "    'rat': 'rat'\n",
        "}\n",
        "\n",
        "# 소리조합 예제\n",
        "sound_combination_examples = {\n",
        "    'bed': 'bed',\n",
        "    'big': 'big',\n",
        "    'box': 'box',\n",
        "    'bag': 'bag',\n",
        "    'cup': 'cup'\n",
        "}\n",
        "\n",
        "# 각 모음에 대한 정답\n",
        "correct_answers = {\n",
        "    'a': 'Aa',\n",
        "    'e': 'Ee',\n",
        "    'i': 'Ii',\n",
        "    'o': 'Oo',\n",
        "    'u': 'Uu'\n",
        "}\n",
        "\n",
        "# 단어 철자 인지 정답\n",
        "spelling_answers = {\n",
        "    'bat': 'bat',\n",
        "    'cat': 'cat',\n",
        "    'dog': 'dog',\n",
        "    'hat': 'hat',\n",
        "    'rat': 'rat'\n",
        "}\n",
        "\n",
        "# 소리조합 모음 정답\n",
        "sound_combination_vowel_answers = {\n",
        "    'bed': 'e',\n",
        "    'big': 'i',\n",
        "    'box': 'o',\n",
        "    'bag': 'a',\n",
        "    'cup': 'u'\n",
        "}\n",
        "\n",
        "# Gradio 인터페이스에서 사용할 오디오 파일 생성\n",
        "audio_files = {}\n",
        "for vowel, example in vowel_examples.items():\n",
        "    filename = f\"audio_{vowel}.mp3\"\n",
        "    audio_files[vowel] = create_tts_audio(example, filename=filename)\n",
        "\n",
        "spelling_audio_files = {}\n",
        "for word, spelling in spelling_examples.items():\n",
        "    filename = f\"spelling_{word}.mp3\"\n",
        "    spelling_audio_files[word] = create_tts_audio(spelling, filename=filename, slow=True)\n",
        "\n",
        "sound_combination_audio_files = {}\n",
        "for word, combination in sound_combination_examples.items():\n",
        "    filename = f\"combination_{word}.mp3\"\n",
        "    sound_combination_audio_files[word] = create_tts_audio(combination, filename=filename)\n",
        "\n",
        "# 함수: 오디오 입력을 받고 정답을 판단\n",
        "def evaluate_audio(vowel, choice):\n",
        "    if correct_answers[vowel] == choice:\n",
        "        return \"Correct!\"\n",
        "    else:\n",
        "        return \"Try Again.\"\n",
        "\n",
        "def evaluate_spelling(word, spelling):\n",
        "    if spelling_answers[word] == spelling:\n",
        "        return \"Correct!\"\n",
        "    else:\n",
        "        return \"Try Again.\"\n",
        "\n",
        "def evaluate_combination_vowel(word, vowel):\n",
        "    if sound_combination_vowel_answers[word] == vowel:\n",
        "        return \"Correct!\"\n",
        "    else:\n",
        "        return \"Try Again.\"\n",
        "\n",
        "# Gradio 인터페이스 생성\n",
        "with gr.Blocks() as demo:\n",
        "    gr.Markdown(\"## Phonics Test for Kids\")\n",
        "\n",
        "    with gr.Tab(\"Individual Sound Recognition\"):\n",
        "        gr.Markdown(\"### Listen and Choose the Correct Vowel Sound\")\n",
        "\n",
        "        for vowel in ['a', 'e', 'i', 'o', 'u']:\n",
        "            gr.Markdown(f\"#### Choose the correct option for the sound of '{vowel_examples[vowel]}'\")\n",
        "            audio = gr.Audio(value=audio_files[vowel], type=\"filepath\", label=\"Listen to the sound\")\n",
        "            choice = gr.Radio(choices=['Aa', 'Ee', 'Ii', 'Oo', 'Uu'], label=\"Choose the correct letter\")\n",
        "            result = gr.Textbox(label=\"Result\")\n",
        "            button = gr.Button(\"Submit\")\n",
        "            button.click(evaluate_audio, inputs=[gr.State(vowel), choice], outputs=result)\n",
        "\n",
        "    with gr.Tab(\"Word Spelling Recognition\"):\n",
        "        gr.Markdown(\"### Listen and Write the Correct Word\")\n",
        "\n",
        "        for word in spelling_examples.keys():\n",
        "            gr.Markdown(f\"#### Write the correct spelling for the word\")\n",
        "            audio = gr.Audio(value=spelling_audio_files[word], type=\"filepath\", label=\"Listen to the word pronounced slowly\")\n",
        "            text_input = gr.Textbox(label=\"Write the word here\")\n",
        "            result = gr.Textbox(label=\"Result\")\n",
        "            button = gr.Button(\"Submit\")\n",
        "            button.click(evaluate_spelling, inputs=[gr.State(word), text_input], outputs=result)\n",
        "\n",
        "    with gr.Tab(\"Sound Combination\"):\n",
        "        gr.Markdown(\"### Listen and Write the Correct Vowel\")\n",
        "\n",
        "        for word in sound_combination_examples.keys():\n",
        "            gr.Markdown(f\"#### Write the correct vowel for the sound combination of '{sound_combination_examples[word]}'\")\n",
        "            audio = gr.Audio(value=sound_combination_audio_files[word], type=\"filepath\", label=\"Listen to the sound combination\")\n",
        "            text_input = gr.Textbox(label=\"Write the vowel here\")\n",
        "            result = gr.Textbox(label=\"Result\")\n",
        "            button = gr.Button(\"Submit\")\n",
        "            button.click(evaluate_combination_vowel, inputs=[gr.State(word), text_input], outputs=result)\n",
        "\n",
        "    gr.Markdown(\"## Overall Evaluation\")\n",
        "    gr.Markdown(\"### Individual Sound Recognition: 0/36\")\n",
        "    gr.Markdown(\"### Word Spelling Recognition: 0/16\")\n",
        "    gr.Markdown(\"### Sound Combination: 0/32\")\n",
        "    gr.Markdown(\"### Initial/Final Sound Recognition: 0/16\")\n",
        "\n",
        "demo.launch()\n"
      ],
      "metadata": {
        "colab": {
          "base_uri": "https://localhost:8080/",
          "height": 631
        },
        "id": "TgYrw1StyVjl",
        "outputId": "10fe497f-443b-4ea7-de00-71912085a383"
      },
      "execution_count": 9,
      "outputs": [
        {
          "output_type": "stream",
          "name": "stdout",
          "text": [
            "Setting queue=True in a Colab notebook requires sharing enabled. Setting `share=True` (you can turn this off by setting `share=False` in `launch()` explicitly).\n",
            "\n",
            "Colab notebook detected. To show errors in colab notebook, set debug=True in launch()\n",
            "Running on public URL: https://303d0a11d3d8c13fc6.gradio.live\n",
            "\n",
            "This share link expires in 72 hours. For free permanent hosting and GPU upgrades, run `gradio deploy` from Terminal to deploy to Spaces (https://huggingface.co/spaces)\n"
          ]
        },
        {
          "output_type": "display_data",
          "data": {
            "text/plain": [
              "<IPython.core.display.HTML object>"
            ],
            "text/html": [
              "<div><iframe src=\"https://303d0a11d3d8c13fc6.gradio.live\" width=\"100%\" height=\"500\" allow=\"autoplay; camera; microphone; clipboard-read; clipboard-write;\" frameborder=\"0\" allowfullscreen></iframe></div>"
            ]
          },
          "metadata": {}
        },
        {
          "output_type": "execute_result",
          "data": {
            "text/plain": []
          },
          "metadata": {},
          "execution_count": 9
        }
      ]
    }
  ]
}