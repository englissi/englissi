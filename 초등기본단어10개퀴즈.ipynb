{
  "nbformat": 4,
  "nbformat_minor": 0,
  "metadata": {
    "colab": {
      "provenance": [],
      "history_visible": true,
      "authorship_tag": "ABX9TyOFTtX4/UJByVMNqRjMHXON",
      "include_colab_link": true
    },
    "kernelspec": {
      "name": "python3",
      "display_name": "Python 3"
    },
    "language_info": {
      "name": "python"
    }
  },
  "cells": [
    {
      "cell_type": "markdown",
      "metadata": {
        "id": "view-in-github",
        "colab_type": "text"
      },
      "source": [
        "<a href=\"https://colab.research.google.com/github/englissi/englissi/blob/main/%EC%B4%88%EB%93%B1%EA%B8%B0%EB%B3%B8%EB%8B%A8%EC%96%B410%EA%B0%9C%ED%80%B4%EC%A6%88.ipynb\" target=\"_parent\"><img src=\"https://colab.research.google.com/assets/colab-badge.svg\" alt=\"Open In Colab\"/></a>"
      ]
    },
    {
      "cell_type": "code",
      "source": [
        "import random\n",
        "\n",
        "# 초등 영어 과정에서 자주 쓰이는 단어 10개 (예시로 10개만 사용)\n",
        "words = ['cat', 'dog', 'happy', 'run', 'play', 'jump', 'red', 'blue', 'yellow', 'green']\n",
        "\n",
        "# 각 단어에 대한 예문\n",
        "sentences = {\n",
        "    'cat': 'The __________ is sleeping on the sofa.',\n",
        "    'dog': 'I have a __________ that loves to play fetch.',\n",
        "    'happy': 'She feels __________ when she eats chocolate.',\n",
        "    'run': 'Every morning, I __________ around the park.',\n",
        "    'play': 'Children love to __________ outside.',\n",
        "    'jump': 'The frog can __________ very high.',\n",
        "    'red': 'My favorite color is __________.',\n",
        "    'blue': 'The sky is __________ on a clear day.',\n",
        "    'yellow': 'Sunflowers are __________.',\n",
        "    'green': 'The grass is __________ after it rains.'\n",
        "}\n",
        "\n",
        "# 빈칸 채우기 퀴즈 자동 생성 함수\n",
        "def create_fill_in_the_blank_quiz(words, sentences):\n",
        "    quiz_list = []\n",
        "    for word in words:\n",
        "        if word in sentences:\n",
        "            quiz_list.append(sentences[word])\n",
        "    return quiz_list\n",
        "\n",
        "# 퀴즈 생성 및 출력\n",
        "quiz = create_fill_in_the_blank_quiz(words, sentences)\n",
        "for i, q in enumerate(quiz, 1):\n",
        "    print(f\"Quiz {i}: {q}\")\n",
        "\n",
        "# 랜덤 단어로 정답 보여주기 (예시)\n",
        "random_word = random.choice(words)\n",
        "print(f\"\\nExample answer (for '{random_word}'): {sentences[random_word].replace('__________', random_word)}\")\n"
      ],
      "metadata": {
        "colab": {
          "base_uri": "https://localhost:8080/"
        },
        "id": "2klkXMWUwcbl",
        "outputId": "e16db759-da80-46e8-8d71-6da0a5e11b86"
      },
      "execution_count": 6,
      "outputs": [
        {
          "output_type": "stream",
          "name": "stdout",
          "text": [
            "Quiz 1: The __________ is sleeping on the sofa.\n",
            "Quiz 2: I have a __________ that loves to play fetch.\n",
            "Quiz 3: She feels __________ when she eats chocolate.\n",
            "Quiz 4: Every morning, I __________ around the park.\n",
            "Quiz 5: Children love to __________ outside.\n",
            "Quiz 6: The frog can __________ very high.\n",
            "Quiz 7: My favorite color is __________.\n",
            "Quiz 8: The sky is __________ on a clear day.\n",
            "Quiz 9: Sunflowers are __________.\n",
            "Quiz 10: The grass is __________ after it rains.\n",
            "\n",
            "Example answer (for 'red'): My favorite color is red.\n"
          ]
        }
      ]
    }
  ]
}