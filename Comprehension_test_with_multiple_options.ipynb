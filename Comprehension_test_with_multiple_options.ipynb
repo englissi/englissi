{
  "nbformat": 4,
  "nbformat_minor": 0,
  "metadata": {
    "colab": {
      "provenance": [],
      "authorship_tag": "ABX9TyOzL8urzxeocuY6OhGc599d",
      "include_colab_link": true
    },
    "kernelspec": {
      "name": "python3",
      "display_name": "Python 3"
    },
    "language_info": {
      "name": "python"
    }
  },
  "cells": [
    {
      "cell_type": "markdown",
      "metadata": {
        "id": "view-in-github",
        "colab_type": "text"
      },
      "source": [
        "<a href=\"https://colab.research.google.com/github/englissi/englissi/blob/main/Comprehension_test_with_multiple_options.ipynb\" target=\"_parent\"><img src=\"https://colab.research.google.com/assets/colab-badge.svg\" alt=\"Open In Colab\"/></a>"
      ]
    },
    {
      "cell_type": "markdown",
      "source": [
        "## Comprehension test"
      ],
      "metadata": {
        "id": "eFe6ExIVbquk"
      }
    },
    {
      "cell_type": "code",
      "execution_count": 1,
      "metadata": {
        "id": "d9qmswGLblp4"
      },
      "outputs": [],
      "source": [
        "%%capture\n",
        "!pip install gradio"
      ]
    },
    {
      "cell_type": "code",
      "source": [
        "import gradio as gr\n",
        "\n",
        "story = \"https://raw.githubusercontent.com/MK316/Spring2024/main/DLTESOL/project/story02.txt\"\n",
        "\n",
        "# Define the comprehension questions\n",
        "questions = [\n",
        "  {\n",
        "    \"question\": \"1. What is the name of the village in the story?\",\n",
        "    \"options\": [\"Shadow Valley\", \"Echo Ridge\", \"Mountain Peak\", \"Glenwood\"],\n",
        "    \"answer\": \"Echo Ridge\"\n",
        "  },\n",
        "  {\n",
        "    \"question\": \"2. Who is the Guardian of the Glen?\",\n",
        "    \"options\": [\"A giant bear\", \"A mythical dragon\", \"A massive eagle\", \"A wise old man\"],\n",
        "    \"answer\": \"A massive eagle\"\n",
        "  },\n",
        "  {\n",
        "    \"question\": \"3. What grade is Alex in?\",\n",
        "    \"options\": [\"Fifth grade\", \"Sixth grade\", \"Seventh grade\", \"Eighth grade\"],\n",
        "    \"answer\": \"Eighth grade\"\n",
        "  },\n",
        "  {\n",
        "    \"question\": \"4. Where did Alex find the ancient map?\",\n",
        "    \"options\": [\"In his attic\", \"In the village square\", \"In the local library\", \"In his grandfather's house\"],\n",
        "    \"answer\": \"In the local library\"\n",
        "  },\n",
        "  {\n",
        "    \"question\": \"5. What is the name of the cave mentioned in the map?\",\n",
        "    \"options\": [\"Silent Cave\", \"Whispering Hollow\", \"Thunder Cave\", \"Echo Cavern\"],\n",
        "    \"answer\": \"Whispering Hollow\"\n",
        "  },\n",
        "  {\n",
        "    \"question\": \"6. Who accompanied Alex on his adventure?\",\n",
        "    \"options\": [\"His siblings\", \"His parents\", \"His best friends Mia and Sam\", \"His neighbors\"],\n",
        "    \"answer\": \"His best friends Mia and Sam\"\n",
        "  },\n",
        "  {\n",
        "    \"question\": \"7. What did they find inside the ancient chest?\",\n",
        "    \"options\": [\"Gold and jewels\", \"Ancient scrolls\", \"Old artifacts and a carved eagle statuette\", \"Magical weapons\"],\n",
        "    \"answer\": \"Old artifacts and a carved eagle statuette\"\n",
        "  },\n",
        "  {\n",
        "    \"question\": \"8. What did the children decide to do with their discovery?\",\n",
        "    \"options\": [\"Keep it a secret\", \"Sell the artifacts\", \"Donate them to the local museum\", \"Bury them back in the cave\"],\n",
        "    \"answer\": \"Donate them to the local museum\"\n",
        "  },\n",
        "  {\n",
        "    \"question\": \"9. How did the village react to the children's discovery?\",\n",
        "    \"options\": [\"They ignored it\", \"They were angry\", \"They celebrated and hailed the children as heroes\", \"They were frightened\"],\n",
        "    \"answer\": \"They celebrated and hailed the children as heroes\"\n",
        "  },\n",
        "  {\n",
        "    \"question\": \"10. What did the legend of the Guardian of the Glen come to symbolize?\",\n",
        "    \"options\": [\"Wealth and prosperity\", \"Danger and fear\", \"Adventure and discovery\", \"Peace and tranquility\"],\n",
        "    \"answer\": \"Adventure and discovery\"\n",
        "  }\n",
        "]\n",
        "\n",
        "\n",
        "# Function to display the story and ask questions\n",
        "def quiz(*answers):\n",
        "    score = 0\n",
        "    incorrect = []\n",
        "    for i, question in enumerate(questions):\n",
        "        if answers[i] == question[\"answer\"]:\n",
        "            score += 1\n",
        "        else:\n",
        "            incorrect.append(f\"Question {i+1}: Correct answer is {question['answer']}\")\n",
        "    results = \"\\n\".join(incorrect)\n",
        "    return score, results\n",
        "\n",
        "story_display = gr.Markdown(story)\n",
        "inputs = [gr.Radio(label=q[\"question\"], choices=q[\"options\"]) for q in questions]\n",
        "outputs = [gr.Textbox(label=\"Score\"), gr.Textbox(label=\"Incorrect Answers\")]\n",
        "\n",
        "iface = gr.Interface(fn=quiz, inputs=inputs, outputs=outputs, description=\"Comprehension Quiz for 'The Guardian's Secret'\")\n",
        "iface.launch(share=True)\n"
      ],
      "metadata": {
        "colab": {
          "base_uri": "https://localhost:8080/",
          "height": 593
        },
        "id": "mYIEuzW5bzrl",
        "outputId": "1cba191d-ad5d-4017-d810-07ad36597c65"
      },
      "execution_count": 2,
      "outputs": [
        {
          "output_type": "stream",
          "name": "stdout",
          "text": [
            "Colab notebook detected. To show errors in colab notebook, set debug=True in launch()\n",
            "Running on public URL: https://3ee9bf9a88969093e9.gradio.live\n",
            "\n",
            "This share link expires in 72 hours. For free permanent hosting and GPU upgrades, run `gradio deploy` from Terminal to deploy to Spaces (https://huggingface.co/spaces)\n"
          ]
        },
        {
          "output_type": "display_data",
          "data": {
            "text/plain": [
              "<IPython.core.display.HTML object>"
            ],
            "text/html": [
              "<div><iframe src=\"https://3ee9bf9a88969093e9.gradio.live\" width=\"100%\" height=\"500\" allow=\"autoplay; camera; microphone; clipboard-read; clipboard-write;\" frameborder=\"0\" allowfullscreen></iframe></div>"
            ]
          },
          "metadata": {}
        },
        {
          "output_type": "execute_result",
          "data": {
            "text/plain": []
          },
          "metadata": {},
          "execution_count": 2
        }
      ]
    }
  ]
}