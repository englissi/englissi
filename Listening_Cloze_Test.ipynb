{
  "nbformat": 4,
  "nbformat_minor": 0,
  "metadata": {
    "colab": {
      "provenance": [],
      "authorship_tag": "ABX9TyNVB2nadVlx8THlaGt9nb7f",
      "include_colab_link": true
    },
    "kernelspec": {
      "name": "python3",
      "display_name": "Python 3"
    },
    "language_info": {
      "name": "python"
    }
  },
  "cells": [
    {
      "cell_type": "markdown",
      "metadata": {
        "id": "view-in-github",
        "colab_type": "text"
      },
      "source": [
        "<a href=\"https://colab.research.google.com/github/englissi/englissi/blob/main/Listening_Cloze_Test.ipynb\" target=\"_parent\"><img src=\"https://colab.research.google.com/assets/colab-badge.svg\" alt=\"Open In Colab\"/></a>"
      ]
    },
    {
      "cell_type": "code",
      "source": [
        "%%capture\n",
        "!pip install gradio\n",
        "!pip install gtts\n",
        "!pip install pydub"
      ],
      "metadata": {
        "id": "YHehCSVFYeft"
      },
      "execution_count": null,
      "outputs": []
    },
    {
      "cell_type": "code",
      "execution_count": null,
      "metadata": {
        "id": "2Kg4Q0BnYc54"
      },
      "outputs": [],
      "source": [
        "!pip install gradio\n",
        "!pip install gtts\n",
        "!pip install SpeechRecognition\n",
        "\n",
        "import gradio as gr\n",
        "from gtts import gTTS\n",
        "import speech_recognition as sr\n",
        "from difflib import SequenceMatcher\n",
        "import tempfile\n",
        "import os\n",
        "\n",
        "# Define your sentences here\n",
        "sents = [\n",
        "    \"In the small mountain village of Echo Ridge, adventure was a part of everyday life. Nestled among towering peaks, the village was said to be protected by the 'Guardian of the Glen,' a massive eagle that supposedly watched over the villagers from its perch high in the mountains. The legend inspired many adventurous tales among the villagers, especially the children.\",\n",
        "    \"Among these children was a bright-eyed eighth grader named Alex. Alex was known for his daring spirit and his love for exploring the rugged landscapes around Echo Ridge. He had a particular fascination with old maps and tales of hidden treasures that had been lost in the mountains centuries ago.\",\n",
        "    \"One day, while exploring the local library, Alex stumbled upon an ancient map tucked inside a forgotten book on village lore. The map hinted at the location of a lost treasure, hidden deep within a cave known as Whispering Hollow. Excited by the prospect of a real adventure, Alex decided to seek out the treasure.\",\n",
        "    \"Knowing the journey would be risky, he enlisted the help of his best friends, Mia and Sam. Together, they prepared for the expedition, gathering supplies and studying the map extensively. They planned their route, took note of landmarks, and readied themselves for any challenges they might face.\",\n",
        "    \"Their journey began at dawn. They trekked through dense forests, crossed rushing streams, and climbed steep cliffs. Along the way, they encountered various wildlife and navigated through tricky terrain, their map guiding them every step of the way.\",\n",
        "    \"After hours of hiking, they finally reached Whispering Hollow. The cave was more magnificent than they had imagined, filled with intricate stalactites and echoes of dripping water. Using their flashlights, they ventured deeper into the cave, guided by the markings on the map.\",\n",
        "    \"As they reached the heart of the cave, they discovered an ancient chest hidden behind a fallen boulder. With hearts pounding, they moved the boulder and opened the chest. Inside, instead of gold or jewels, they found a collection of old artifacts: pottery, coins, and a beautifully carved statuette of an eagle — the Guardian of the Glen.\",\n",
        "    \"Realizing the historical significance of their find, they decided to donate the artifacts to the local museum. The village celebrated their discovery, and the children were hailed as heroes. Their adventure brought the community together, sparking a renewed interest in the history and legends of Echo Ridge. Alex, Mia, and Sam became local legends, known not only for their daring but also for their spirit of discovery and respect for heritage. They continued to explore the mountains, each adventure strengthening their friendship and deepening their connection to their village.\",\n",
        "    \"The legend of the Guardian of the Glen lived on, not just as a protector but as a symbol of adventure and discovery, inspiring future generations to explore the mysteries of Echo Ridge.\"\n",
        "]\n",
        "\n",
        "def text_to_speech(selected_sentence, language):\n",
        "    tld = 'co.uk' if language == \"British English\" else 'com'\n",
        "\n",
        "    sn = int(selected_sentence.split(\".\")[0])  # Extract the sentence number\n",
        "    mytext = sents[sn - 1]  # Get the selected sentence\n",
        "\n",
        "    tts = gTTS(text=mytext, lang='en', tld=tld, slow=False)\n",
        "    filename = 'output.mp3'\n",
        "    tts.save(filename)\n",
        "    return filename\n",
        "\n",
        "def recognize_speech_from_microphone(audio_path):\n",
        "    recognizer = sr.Recognizer()\n",
        "    try:\n",
        "        with sr.AudioFile(audio_path) as source:\n",
        "            audio_data = recognizer.record(source)\n",
        "            text = recognizer.recognize_google(audio_data)\n",
        "            return text\n",
        "    except sr.UnknownValueError:\n",
        "        return \"Could not understand the audio\"\n",
        "    except sr.RequestError as e:\n",
        "        return f\"Could not request results from Google Speech Recognition service; {e}\"\n",
        "    except Exception as e:\n",
        "        return str(e)\n",
        "\n",
        "def calculate_similarity(original_text, recognized_text):\n",
        "    return SequenceMatcher(None, original_text.lower(), recognized_text.lower()).ratio() * 100\n",
        "\n",
        "def process_audio(selected_sentence, audio_path):\n",
        "    sn = int(selected_sentence.split(\".\")[0])  # Extract the sentence number\n",
        "    original_text = sents[sn - 1]  # Get the selected sentence\n",
        "    recognized_text = recognize_speech_from_microphone(audio_path)\n",
        "    if \"Error\" in recognized_text or \"Could not\" in recognized_text:\n",
        "        return recognized_text, 0.0\n",
        "    similarity = calculate_similarity(original_text, recognized_text)\n",
        "    return recognized_text, similarity\n",
        "\n",
        "def display_sentence(selected_sentence):\n",
        "    sn = int(selected_sentence.split(\".\")[0])\n",
        "    return sents[sn - 1]\n",
        "\n",
        "with gr.Blocks() as demo:\n",
        "    with gr.Row():\n",
        "        with gr.Column():\n",
        "            gr.Markdown(\"### Text-to-Speech Converter\")\n",
        "            dropdown_sentences = gr.Dropdown(choices=[f\"{i}. {sents[i-1]}\" for i in range(1, len(sents) + 1)], label=\"Select Sentence\")\n",
        "            radio_language = gr.Radio(choices=['English', 'British English'], label=\"Language\")\n",
        "            generate_tts_button = gr.Button(\"Generate Speech\")\n",
        "            tts_audio_output = gr.Audio(type=\"filepath\", label=\"Output Audio\")\n",
        "            generate_tts_button.click(text_to_speech, inputs=[dropdown_sentences, radio_language], outputs=tts_audio_output)\n",
        "            selected_sentence_display = gr.Textbox(label=\"Selected Sentence\", interactive=False)\n",
        "            dropdown_sentences.change(display_sentence, inputs=dropdown_sentences, outputs=selected_sentence_display)\n",
        "\n",
        "    with gr.Row():\n",
        "        with gr.Column():\n",
        "            gr.Markdown(\"### Pronunciation Evaluator\")\n",
        "            mic_input = gr.Audio(label=\"Your Pronunciation\", type=\"filepath\")\n",
        "            result_button = gr.Button(\"Evaluate Pronunciation\")\n",
        "            recognized_text = gr.Textbox(label=\"Recognized Text\")\n",
        "            similarity_score = gr.Number(label=\"Similarity (%)\")\n",
        "\n",
        "            result_button.click(process_audio, inputs=[dropdown_sentences, mic_input], outputs=[recognized_text, similarity_score])\n",
        "\n",
        "demo.launch()\n"
      ]
    }
  ]
}