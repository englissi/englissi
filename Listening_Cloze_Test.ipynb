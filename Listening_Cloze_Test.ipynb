{
  "nbformat": 4,
  "nbformat_minor": 0,
  "metadata": {
    "colab": {
      "provenance": [],
      "authorship_tag": "ABX9TyOOQB11pb5MLCFrbn9+CEhj",
      "include_colab_link": true
    },
    "kernelspec": {
      "name": "python3",
      "display_name": "Python 3"
    },
    "language_info": {
      "name": "python"
    }
  },
  "cells": [
    {
      "cell_type": "markdown",
      "metadata": {
        "id": "view-in-github",
        "colab_type": "text"
      },
      "source": [
        "<a href=\"https://colab.research.google.com/github/englissi/englissi/blob/main/Listening_Cloze_Test.ipynb\" target=\"_parent\"><img src=\"https://colab.research.google.com/assets/colab-badge.svg\" alt=\"Open In Colab\"/></a>"
      ]
    },
    {
      "cell_type": "code",
      "source": [
        "%%capture\n",
        "!pip install gradio\n",
        "\n",
        "\n",
        "!pip install gTTS\n",
        "\n",
        "!pip install gtts pydub"
      ],
      "metadata": {
        "id": "Qn8PCTd0MfM5"
      },
      "execution_count": 13,
      "outputs": []
    },
    {
      "cell_type": "code",
      "execution_count": 16,
      "metadata": {
        "colab": {
          "base_uri": "https://localhost:8080/",
          "height": 593
        },
        "id": "-o1vXVFLMeBF",
        "outputId": "7a446c60-df52-4bca-9510-80c3bbede74e"
      },
      "outputs": [
        {
          "output_type": "stream",
          "name": "stdout",
          "text": [
            "Colab notebook detected. To show errors in colab notebook, set debug=True in launch()\n",
            "Running on public URL: https://c4963494b6e96e7cee.gradio.live\n",
            "\n",
            "This share link expires in 72 hours. For free permanent hosting and GPU upgrades, run `gradio deploy` from Terminal to deploy to Spaces (https://huggingface.co/spaces)\n"
          ]
        },
        {
          "output_type": "display_data",
          "data": {
            "text/plain": [
              "<IPython.core.display.HTML object>"
            ],
            "text/html": [
              "<div><iframe src=\"https://c4963494b6e96e7cee.gradio.live\" width=\"100%\" height=\"500\" allow=\"autoplay; camera; microphone; clipboard-read; clipboard-write;\" frameborder=\"0\" allowfullscreen></iframe></div>"
            ]
          },
          "metadata": {}
        },
        {
          "output_type": "execute_result",
          "data": {
            "text/plain": []
          },
          "metadata": {},
          "execution_count": 16
        }
      ],
      "source": [
        "import gradio as gr\n",
        "import requests\n",
        "from gtts import gTTS\n",
        "from pydub import AudioSegment\n",
        "from pydub.generators import Sine\n",
        "import os\n",
        "\n",
        "# Cloze questions\n",
        "cloze_questions = [\n",
        "    {\n",
        "        \"question\": \"In the small mountain village of Echo Ridge, adventure [BLANK] a part of everyday life.\",\n",
        "        \"answer\": \"was\"\n",
        "    },\n",
        "    {\n",
        "        \"question\": \"Among these children [BLANK] a bright-eyed eighth grader named Alex.\",\n",
        "        \"answer\": \"was\"\n",
        "    },\n",
        "    {\n",
        "        \"question\": \"Alex [BLANK] for his daring spirit and his love for exploring the rugged landscapes around Echo Ridge.\",\n",
        "        \"answer\": \"was known\"\n",
        "    },\n",
        "    {\n",
        "        \"question\": \"He [BLANK] a particular fascination with the old maps and tales of hidden treasures that had been lost in the mountains centuries ago.\",\n",
        "        \"answer\": \"had\"\n",
        "    },\n",
        "    {\n",
        "        \"question\": \"One day, while exploring the local library, Alex [BLANK] upon an ancient map tucked inside a forgotten book on village lore.\",\n",
        "        \"answer\": \"stumbled\"\n",
        "    },\n",
        "    {\n",
        "        \"question\": \"The map [BLANK] at the location of a lost treasure, hidden deep within a cave known as Whispering Hollow.\",\n",
        "        \"answer\": \"hinted\"\n",
        "    },\n",
        "]\n",
        "\n",
        "# Function to create a bell sound\n",
        "def create_bell_sound(filename=\"bell.wav\"):\n",
        "    # Generate a bell sound (1000 Hz tone for 500 ms)\n",
        "    tone = Sine(1000).to_audio_segment(duration=500).apply_gain(-10).fade_in(50).fade_out(50)\n",
        "    tone.export(filename, format=\"wav\")\n",
        "\n",
        "# Create the bell sound file\n",
        "create_bell_sound()\n",
        "\n",
        "# Function to convert text to speech and add bell sound\n",
        "def text_to_speech_with_bell(text, filename):\n",
        "    tts = gTTS(text.replace(\"[BLANK]\", \"\"))\n",
        "    tts.save(\"temp.mp3\")\n",
        "\n",
        "    # Load the generated speech and bell sound\n",
        "    speech = AudioSegment.from_mp3(\"temp.mp3\")\n",
        "    bell = AudioSegment.from_wav(\"bell.wav\")\n",
        "\n",
        "    # Find the position of the blank and insert the bell sound\n",
        "    blank_position = text.find(\"[BLANK]\")\n",
        "    part1 = text[:blank_position]\n",
        "    tts_part1 = gTTS(part1).save(\"part1.mp3\")\n",
        "    speech_part1 = AudioSegment.from_mp3(\"part1.mp3\")\n",
        "\n",
        "    combined = speech_part1 + bell + speech[len(speech_part1):]\n",
        "\n",
        "    # Save the final audio with the bell sound inserted\n",
        "    combined.export(filename, format=\"mp3\")\n",
        "    os.remove(\"temp.mp3\")\n",
        "    os.remove(\"part1.mp3\")\n",
        "    return filename\n",
        "\n",
        "# Generate audio files for questions\n",
        "for i, question in enumerate(cloze_questions):\n",
        "    audio_filename = f\"question_{i+1}.mp3\"\n",
        "    question[\"audio\"] = text_to_speech_with_bell(question[\"question\"], audio_filename)\n",
        "\n",
        "# Function to handle the cloze quiz\n",
        "def cloze_quiz(state, answer):\n",
        "    name, question_index, score, results = state\n",
        "    question = cloze_questions[question_index]\n",
        "\n",
        "    if answer.strip().lower() == question[\"answer\"].lower():\n",
        "        score += 1\n",
        "        results.append(f\"Question {question_index + 1}: Correct\\n\")\n",
        "    else:\n",
        "        results.append(f\"Question {question_index + 1}: Incorrect, the correct answer is: {question['answer']}\\n\")\n",
        "\n",
        "    question_index += 1\n",
        "\n",
        "    if question_index < len(cloze_questions):\n",
        "        next_question_audio = cloze_questions[question_index][\"audio\"]\n",
        "        return (name, question_index, score, results), next_question_audio, gr.update(visible=False), gr.update(value=\"\")\n",
        "    else:\n",
        "        result_text = f\"* Name: {name}\\n* Score: {score} out of {len(cloze_questions)}\\n\" + \"\\n\".join(results)\n",
        "        return (name, question_index, score, results), None, gr.update(visible=True, value=result_text), gr.update(visible=False)\n",
        "\n",
        "# Function to start the quiz\n",
        "def start_quiz(name):\n",
        "    return (name, 0, 0, []), cloze_questions[0][\"audio\"], gr.update(visible=False), gr.update(visible=True)\n",
        "\n",
        "# Create the Gradio interface\n",
        "with gr.Blocks() as iface:\n",
        "    name_input = gr.Textbox(label=\"Enter your name\")\n",
        "    start_button = gr.Button(\"Start Quiz\")\n",
        "    question_audio = gr.Audio(interactive=False)\n",
        "    answer_input = gr.Textbox(label=\"Your Answer\")\n",
        "    next_button = gr.Button(\"Next\")\n",
        "    result_output = gr.Textbox(label=\"Results\", interactive=False, visible=False)\n",
        "\n",
        "    # Initialize the state\n",
        "    state = gr.State()\n",
        "\n",
        "    start_button.click(start_quiz, inputs=name_input, outputs=[state, question_audio, result_output, answer_input])\n",
        "    next_button.click(cloze_quiz, inputs=[state, answer_input], outputs=[state, question_audio, result_output, answer_input])\n",
        "\n",
        "iface.launch(share=True)\n"
      ]
    }
  ]
}