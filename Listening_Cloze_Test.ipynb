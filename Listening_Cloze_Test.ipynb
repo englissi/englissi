{
  "nbformat": 4,
  "nbformat_minor": 0,
  "metadata": {
    "colab": {
      "provenance": [],
      "authorship_tag": "ABX9TyMGJhKl5Nc6oR6Cy+UDkqT1",
      "include_colab_link": true
    },
    "kernelspec": {
      "name": "python3",
      "display_name": "Python 3"
    },
    "language_info": {
      "name": "python"
    }
  },
  "cells": [
    {
      "cell_type": "markdown",
      "metadata": {
        "id": "view-in-github",
        "colab_type": "text"
      },
      "source": [
        "<a href=\"https://colab.research.google.com/github/englissi/englissi/blob/main/Listening_Cloze_Test.ipynb\" target=\"_parent\"><img src=\"https://colab.research.google.com/assets/colab-badge.svg\" alt=\"Open In Colab\"/></a>"
      ]
    },
    {
      "cell_type": "code",
      "source": [
        "%%capture\n",
        "!pip install gradio"
      ],
      "metadata": {
        "id": "Qn8PCTd0MfM5"
      },
      "execution_count": null,
      "outputs": []
    },
    {
      "cell_type": "code",
      "source": [
        "%%capture\n",
        "# First, install the gTTS library if you haven't already\n",
        "!pip install gTTS\n",
        "\n",
        "# Import the gTTS library\n",
        "from gtts import gTTS"
      ],
      "metadata": {
        "id": "e9h-g-wyMjFk"
      },
      "execution_count": null,
      "outputs": []
    },
    {
      "cell_type": "code",
      "execution_count": null,
      "metadata": {
        "id": "-o1vXVFLMeBF"
      },
      "outputs": [],
      "source": [
        "import gradio as gr\n",
        "import requests\n",
        "from gtts import gTTS\n",
        "import os\n",
        "\n",
        "# Cloze questions\n",
        "cloze_questions = [\n",
        "    {\n",
        "        \"question\": \"In the small mountain village of Echo Ridge, adventure ______ (be) a part of everyday life.\",\n",
        "        \"answer\": \"was\"\n",
        "    },\n",
        "    {\n",
        "        \"question\": \"Among these children ______ (be) a bright-eyed eighth grader named Alex.\",\n",
        "        \"answer\": \"was\"\n",
        "    },\n",
        "    {\n",
        "        \"question\": \"Alex ______ (know) for his daring spirit and his love for exploring the rugged landscapes around Echo Ridge.\",\n",
        "        \"answer\": \"was known\"\n",
        "    },\n",
        "    {\n",
        "        \"question\": \"He ______ (have) a particular fascination with the old maps and tales of hidden treasures that had been lost in the mountains centuries ago.\",\n",
        "        \"answer\": \"had\"\n",
        "    },\n",
        "    {\n",
        "        \"question\": \"One day, while exploring the local library, Alex ______ (stumble) upon an ancient map tucked inside a forgotten book on village lore.\",\n",
        "        \"answer\": \"stumbled\"\n",
        "    },\n",
        "    {\n",
        "        \"question\": \"The map ______ (hint) at the location of a lost treasure, hidden deep within a cave known as Whispering Hollow.\",\n",
        "        \"answer\": \"hinted\"\n",
        "    },\n",
        "]\n",
        "\n",
        "# Function to convert text to speech and save as an audio file\n",
        "def text_to_speech(text, filename):\n",
        "    tts = gTTS(text)\n",
        "    tts.save(filename)\n",
        "    return filename\n",
        "\n",
        "# Generate audio files for questions\n",
        "for i, question in enumerate(cloze_questions):\n",
        "    audio_filename = f\"question_{i+1}.mp3\"\n",
        "    question[\"audio\"] = text_to_speech(question[\"question\"], audio_filename)\n",
        "\n",
        "# Function to handle the cloze quiz\n",
        "def cloze_quiz(state, answer):\n",
        "    name, question_index, score, results = state\n",
        "    question = cloze_questions[question_index]\n",
        "\n",
        "    if answer.strip().lower() == question[\"answer\"].lower():\n",
        "        score += 1\n",
        "        results.append(f\"Question {question_index + 1}: Correct\\n\")\n",
        "    else:\n",
        "        results.append(f\"Question {question_index + 1}: Incorrect, the correct answer is: {question['answer']}\\n\")\n",
        "\n",
        "    question_index += 1\n",
        "\n",
        "    if question_index < len(cloze_questions):\n",
        "        next_question_audio = cloze_questions[question_index][\"audio\"]\n",
        "        return (name, question_index, score, results), next_question_audio, gr.update(visible=False), gr.update(value=\"\")\n",
        "    else:\n",
        "        result_text = f\"* Name: {name}\\n* Score: {score} out of {len(cloze_questions)}\\n\" + \"\\n\".join(results)\n",
        "        return (name, question_index, score, results), \"\", gr.update(visible=True, value=result_text), gr.update(visible=False)\n",
        "\n",
        "# Function to start the quiz\n",
        "def start_quiz(name):\n",
        "    return (name, 0, 0, []), cloze_questions[0][\"audio\"], gr.update(visible=False), gr.update(visible=True)\n",
        "\n",
        "# Create the Gradio interface\n",
        "with gr.Blocks() as iface:\n",
        "    name_input = gr.Textbox(label=\"Enter your name\")\n",
        "    start_button = gr.Button(\"Start Quiz\")\n",
        "    question_audio = gr.Audio(interactive=False)\n",
        "    answer_input = gr.Textbox(label=\"Your Answer\")\n",
        "    next_button = gr.Button(\"Next\")\n",
        "    result_output = gr.Textbox(label=\"Results\", interactive=False, visible=False)\n",
        "\n",
        "    # Initialize the state\n",
        "    state = gr.State()\n",
        "\n",
        "    start_button.click(start_quiz, inputs=name_input, outputs=[state, question_audio, result_output, answer_input])\n",
        "    next_button.click(cloze_quiz, inputs=[state, answer_input], outputs=[state, question_audio, result_output, answer_input])\n",
        "\n",
        "iface.launch(share=True)\n"
      ]
    }
  ]
}