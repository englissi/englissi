{
  "nbformat": 4,
  "nbformat_minor": 0,
  "metadata": {
    "colab": {
      "provenance": [],
      "authorship_tag": "ABX9TyOdM+nPo2D25VZKj2nxo++5",
      "include_colab_link": true
    },
    "kernelspec": {
      "name": "python3",
      "display_name": "Python 3"
    },
    "language_info": {
      "name": "python"
    }
  },
  "cells": [
    {
      "cell_type": "markdown",
      "metadata": {
        "id": "view-in-github",
        "colab_type": "text"
      },
      "source": [
        "<a href=\"https://colab.research.google.com/github/englissi/englissi/blob/main/%EC%96%B4%ED%9C%98%EB%AA%A9%EB%A1%9D%EC%A0%9C%EC%9E%91.ipynb\" target=\"_parent\"><img src=\"https://colab.research.google.com/assets/colab-badge.svg\" alt=\"Open In Colab\"/></a>"
      ]
    },
    {
      "cell_type": "code",
      "source": [
        "!pip install nltk\n",
        "text = input()\n",
        "# We'll use the same text here\n",
        "\n",
        "# Step 1: Import necessary libraries\n",
        "import nltk\n",
        "from nltk.corpus import stopwords\n",
        "from nltk.tokenize import word_tokenize\n",
        "from nltk.probability import FreqDist\n",
        "import re\n",
        "\n",
        "# Step 2: Download necessary NLTK resources\n",
        "nltk.download('punkt')\n",
        "nltk.download('stopwords')"
      ],
      "metadata": {
        "colab": {
          "base_uri": "https://localhost:8080/"
        },
        "id": "KRy96lrgR1K7",
        "outputId": "ae731cac-d2c7-4c2a-fc61-6ab11201a9eb"
      },
      "execution_count": 6,
      "outputs": [
        {
          "name": "stdout",
          "output_type": "stream",
          "text": [
            "Requirement already satisfied: nltk in /usr/local/lib/python3.10/dist-packages (3.8.1)\n",
            "Requirement already satisfied: click in /usr/local/lib/python3.10/dist-packages (from nltk) (8.1.7)\n",
            "Requirement already satisfied: joblib in /usr/local/lib/python3.10/dist-packages (from nltk) (1.4.2)\n",
            "Requirement already satisfied: regex>=2021.8.3 in /usr/local/lib/python3.10/dist-packages (from nltk) (2023.12.25)\n",
            "Requirement already satisfied: tqdm in /usr/local/lib/python3.10/dist-packages (from nltk) (4.66.4)\n",
            "The Guardian's Secret In the small mountain village of Echo Ridge, adventure was a part of everyday life. Nestled among towering peaks, the village was said to be protected by the \"Guardian of the Glen,\" a massive eagle that supposedly watched over the villagers from its perch high in the mountains. The legend inspired many adventurous tales among the villagers, especially the children. Among these children was a bright-eyed eighth grader named Alex. Alex was known for his daring spirit and his love for exploring the rugged landscapes around Echo Ridge. He had a particular fascination with the old maps and tales of hidden treasures that had been lost in the mountains centuries ago. One day, while exploring the local library, Alex stumbled upon an ancient map tucked inside a forgotten book on village lore. The map hinted at the location of a lost treasure, hidden deep within a cave known as Whispering Hollow. Excited by the prospect of a real adventure, Alex decided to seek out the treasure. Knowing the journey would be risky, he enlisted the help of his best friends, Mia and Sam. Together, they prepared for the expedition, gathering supplies and studying the map extensively. They planned their route, took note of landmarks, and readied themselves for any challenges they might face. Their journey began at dawn. They trekked through dense forests, crossed rushing streams, and climbed steep cliffs. Along the way, they encountered various wildlife and navigated through tricky terrains, their map guiding them every step of the way. After hours of hiking, they finally reached Whispering Hollow. The cave was more magnificent than they had imagined, filled with intricate stalactites and echoes of dripping water. Using their flashlights, they ventured deeper into the cave, guided by the markings on the map. As they reached the heart of the cave, they discovered an ancient chest hidden behind a fallen boulder. With hearts pounding, they moved the boulder and opened the chest. Inside, instead of gold or jewels, they found a collection of old artifacts: pottery, coins, and a beautifully carved statuette of an eagle — the Guardian of the Glen. Realizing the historical significance of their find, they decided to donate the artifacts to the local museum. The village celebrated their discovery, and the children were hailed as heroes. Their adventure brought the community together, sparking a renewed interest in the history and legends of Echo Ridge. Alex, Mia, and Sam became local legends, known not only for their daring but also for their spirit of discovery and respect for heritage. They continued to explore the mountains, each adventure strengthening their friendship and deepening their connection to their village. The legend of the Guardian of the Glen lived on, not just as a protector but as a symbol of adventure and discovery, inspiring future generations to explore the mysteries of Echo Ridge.\n"
          ]
        },
        {
          "output_type": "stream",
          "name": "stderr",
          "text": [
            "[nltk_data] Downloading package punkt to /root/nltk_data...\n",
            "[nltk_data]   Package punkt is already up-to-date!\n",
            "[nltk_data] Downloading package stopwords to /root/nltk_data...\n",
            "[nltk_data]   Package stopwords is already up-to-date!\n"
          ]
        },
        {
          "output_type": "execute_result",
          "data": {
            "text/plain": [
              "True"
            ]
          },
          "metadata": {},
          "execution_count": 6
        }
      ]
    },
    {
      "cell_type": "code",
      "source": [
        "#@markdown Making a wordlist by frequency (as 'df' dataframe)\n",
        "\n",
        "# Step 3: Prepare the stop words 중지단어는 제거한다.\n",
        "stop_words = set(stopwords.words('english'))\n",
        "\n",
        "# Add more custom stop words 무시하고 싶은 단어 넣기\n",
        "additional_stop_words = ['word1', 'word2']\n",
        "stop_words.update(additional_stop_words)\n",
        "\n",
        "# Step 4: Clean the text 공백 지우기, 기호지우기\n",
        "# Use regular expressions to remove punctuation and numbers\n",
        "clean_text = re.sub(r'[^\\w\\s]', '', text)  # Remove punctuation\n",
        "clean_text = re.sub(r'\\d+', '', clean_text)  # Remove numbers\n",
        "\n",
        "# Step 5: Tokenize the text and remove stop words\n",
        "words = word_tokenize(clean_text)\n",
        "filtered_words = [word.lower() for word in words if word.lower() not in stop_words]\n",
        "\n",
        "# print(clean_text)\n",
        "# print(\"Filtered words: \", filtered_words)\n",
        "\n",
        "# Step 6: Create frequency distribution\n",
        "freq_dist = FreqDist(filtered_words)\n",
        "\n",
        "# Step 7: Convert frequency distribution to a sorted list of tuples (word, frequency)\n",
        "\n",
        "sorted_freq_list = sorted(freq_dist.items(), key=lambda x: x[1], reverse=True)\n",
        "\n",
        "# # Display the sorted frequency list\n",
        "# for word, frequency in sorted_freq_list:\n",
        "#     print(f'{word}: {frequency}')\n",
        "\n",
        "# Step 8: 저장단계 Convert frequency distribution to a DataFrame and a csv file\n",
        "\n",
        "import pandas as pd\n",
        "\n",
        "df = pd.DataFrame(sorted_freq_list, columns=['Word', 'Frequency'])\n",
        "\n",
        "print(f\"Number of words: {len(filtered_words)}\")"
      ],
      "metadata": {
        "colab": {
          "base_uri": "https://localhost:8080/"
        },
        "id": "_WeEmgNhR-fZ",
        "outputId": "65b5234f-c60b-4c52-c363-22cb41beab55"
      },
      "execution_count": 7,
      "outputs": [
        {
          "output_type": "stream",
          "name": "stdout",
          "text": [
            "Number of words: 272\n"
          ]
        }
      ]
    },
    {
      "cell_type": "code",
      "source": [
        "# Step 9: Save the DataFrame to a CSV file\n",
        "\n",
        "df.to_csv(\"wordlist.csv\", index=False)"
      ],
      "metadata": {
        "id": "I8i9WXWkTQII"
      },
      "execution_count": 9,
      "outputs": []
    },
    {
      "cell_type": "markdown",
      "source": [
        "# 새 섹션"
      ],
      "metadata": {
        "id": "VUto0_RaS3O-"
      }
    },
    {
      "cell_type": "markdown",
      "source": [
        "## 본문 어휘 받아쓰기"
      ],
      "metadata": {
        "id": "J3T6TuD0VIli"
      }
    },
    {
      "cell_type": "code",
      "source": [
        "%%capture\n",
        "!pip install gtts gradio"
      ],
      "metadata": {
        "id": "d_0oN-joU4EM"
      },
      "execution_count": 12,
      "outputs": []
    },
    {
      "cell_type": "code",
      "execution_count": null,
      "metadata": {
        "colab": {
          "base_uri": "https://localhost:8080/",
          "height": 113
        },
        "id": "cvmF3JZW8SaP",
        "outputId": "494a96bc-86c0-452b-afef-df9c5ede0e05"
      },
      "outputs": [
        {
          "output_type": "display_data",
          "data": {
            "text/plain": [
              "<IPython.lib.display.Audio object>"
            ],
            "text/html": [
              "\n",
              "                <audio  controls=\"controls\" autoplay=\"autoplay\">\n",
              "                    <source src=\"data:audio/mpeg;base64,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\" type=\"audio/mpeg\" />\n",
              "                    Your browser does not support the audio element.\n",
              "                </audio>\n",
              "              "
            ]
          },
          "metadata": {}
        }
      ],
      "source": [
        "# 문항이 무한으로 출력되는데 새창으로 출력되게 하는 코드.\n",
        "\n",
        "import random\n",
        "import os\n",
        "from gtts import gTTS\n",
        "import IPython.display as ipd\n",
        "from IPython.display import display, clear_output\n",
        "\n",
        "# List of words for the test\n",
        "word_list = [ \"village\",\"adventure\",\"alex\",\"map\",\"echo\",\"ridge\",\"cave\",\"among\",\"guardian\",\"glen\",\"mountains\",\"children\",\"known\",\"hidden\",\"local\",\"discovery\",\"eagle\",\"villagers\",\"legend\",\"tales\",\"daring\",\"spirit\",\"exploring\",\"old\",\"lost\",\"ancient\",\"inside\",\"treasure\",\"whispering\",\"hollow\",\"decided\",\"journey\",\"mia\",\"sam\",\"together\",\"way\",\"reached\",\"chest\",\"boulder\",\"artifacts\",\"legends\",\"explore\",\"guardians\",\"secret\",\"small\",\"mountain\",\"part\",\"everyday\",\"life\",\"nestled\",\"towering\",\"peaks\",\"said\",\"protected\",\"massive\",\"supposedly\",\"watched\",\"perch\",\"high\",\"inspired\",\"many\",\"adventurous\",\"especially\",\"brighteyed\",\"eighth\",\"grader\",\"named\",\"love\",\"rugged\",\"landscapes\",\"around\",\"particular\",\"fascination\",\"maps\",\"treasures\",\"centuries\",\"ago\",\"one\",\"day\",\"library\",\"stumbled\",\"upon\",\"tucked\",\"forgotten\",\"book\",\"lore\",\"hinted\",\"location\",\"deep\",\"within\",\"excited\",\"prospect\",\"real\",\"seek\",\"knowing\",\"would\",\"risky\",\"enlisted\",\"help\",\"best\",\"friends\",\"prepared\",\"expedition\",\"gathering\",\"supplies\",\"studying\",\"extensively\",\"planned\",\"route\",\"took\",\"note\",\"landmarks\",\"readied\",\"challenges\",\"might\",\"face\",\"began\",\"dawn\",\"trekked\",\"dense\",\"forests\",\"crossed\",\"rushing\",\"streams\",\"climbed\",\"steep\",\"cliffs\",\"along\",\"encountered\",\"various\",\"wildlife\",\"navigated\",\"tricky\",\"terrains\",\"guiding\",\"every\",\"step\",\"hours\",\"hiking\",\"finally\",\"magnificent\",\"imagined\",\"filled\",\"intricate\",\"stalactites\",\"echoes\",\"dripping\",\"water\",\"using\",\"flashlights\",\"ventured\",\"deeper\",\"guided\",\"markings\",\"heart\",\"discovered\",\"behind\",\"fallen\",\"hearts\",\"pounding\",\"moved\",\"opened\",\"instead\",\"gold\",\"jewels\",\"found\",\"collection\",\"pottery\",\"coins\",\"beautifully\",\"carved\",\"statuette\",\"realizing\",\"historical\",\"significance\",\"find\",\"donate\",\"museum\",\"celebrated\",\"hailed\",\"heroes\",\"brought\",\"community\",\"sparking\",\"renewed\",\"interest\",\"history\",\"became\",\"also\",\"respect\",\"heritage\",\"continued\",\"strengthening\",\"friendship\",\"deepening\",\"connection\",\"lived\",\"protector\",\"symbol\",\"inspiring\",\"future\",\"generations\",\"mysteries\", ]\n",
        "random.shuffle(word_list)\n",
        "\n",
        "def play_audio(word):\n",
        "    tts = gTTS(text=word, lang='en')\n",
        "    tts.save(\"word.mp3\")\n",
        "    display(ipd.Audio(\"word.mp3\", autoplay=True))\n",
        "\n",
        "# Main loop\n",
        "while word_list:\n",
        "    clear_output(wait=True)  # Clear the previous outputs including audio\n",
        "    word = random.choice(word_list)  # Select a random word from the list\n",
        "    play_audio(word)  # Generate and play the audio for the selected word\n",
        "\n",
        "    user_input = input(\"Type the word you heard: \").strip().lower()  # Get user input\n",
        "\n",
        "    if user_input == word:\n",
        "        print(\"Correct!\")\n",
        "        word_list.remove(word)  # Remove the word from the list if correct\n",
        "        os.remove(\"word.mp3\")   # Delete the audio file after a correct guess\n",
        "    else:\n",
        "        print(\"Incorrect. Try again. The word was:\", word)\n",
        "\n",
        "# Congratulate the user when all words are done\n",
        "print(\"Congratulations! You completed the test.\")"
      ]
    }
  ]
}