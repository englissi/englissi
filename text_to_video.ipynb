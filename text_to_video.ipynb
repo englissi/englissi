{
  "nbformat": 4,
  "nbformat_minor": 0,
  "metadata": {
    "colab": {
      "provenance": [],
      "authorship_tag": "ABX9TyPnZQV/2lUMHHh5Mb6bE1yy",
      "include_colab_link": true
    },
    "kernelspec": {
      "name": "python3",
      "display_name": "Python 3"
    },
    "language_info": {
      "name": "python"
    }
  },
  "cells": [
    {
      "cell_type": "markdown",
      "metadata": {
        "id": "view-in-github",
        "colab_type": "text"
      },
      "source": [
        "<a href=\"https://colab.research.google.com/github/englissi/englissi/blob/main/text_to_video.ipynb\" target=\"_parent\"><img src=\"https://colab.research.google.com/assets/colab-badge.svg\" alt=\"Open In Colab\"/></a>"
      ]
    },
    {
      "cell_type": "code",
      "execution_count": null,
      "metadata": {
        "id": "ed0IJtjO1NFy"
      },
      "outputs": [],
      "source": [
        "# Step 1: Install required libraries\n",
        "\n",
        "%%capture\n",
        "!pip install gradio diffusers transformers accelerate torch"
      ]
    },
    {
      "cell_type": "code",
      "source": [
        "# Step 2: Import libraries\n",
        "import gradio as gr\n",
        "from diffusers import DiffusionPipeline\n",
        "import torch\n",
        "\n",
        "# Step 3: Load the text-to-video model\n",
        "model_id = \"ByteDance/AnimateDiff-Lightning\"\n",
        "pipeline = DiffusionPipeline.from_pretrained(model_id, torch_dtype=torch.float16)\n",
        "pipeline.to(\"cuda\")\n",
        "\n",
        "# Step 4: Define the text-to-video generation function\n",
        "def generate_video(prompt):\n",
        "    video = pipeline(prompt)[\"videos\"][0]\n",
        "    # Save the video to a file\n",
        "    video_path = \"generated_video.mp4\"\n",
        "    video.save(video_path)\n",
        "    return video_path\n",
        "\n",
        "# Step 5: Set up the Gradio interface\n",
        "iface = gr.Interface(\n",
        "    fn=generate_video,\n",
        "    inputs=gr.components.Textbox(lines=2, placeholder=\"Enter a prompt for the video...\"),\n",
        "    outputs=gr.components.Video(),\n",
        "    title=\"Text to Video Generator\",\n",
        "    description=\"Generate a video from text using ByteDance/AnimateDiff-Lightning model\"\n",
        ")\n",
        "\n",
        "# Step 6: Launch the interface in Colab\n",
        "iface.launch(share=True)"
      ],
      "metadata": {
        "id": "5e2ePWB-1QqF"
      },
      "execution_count": null,
      "outputs": []
    }
  ]
}