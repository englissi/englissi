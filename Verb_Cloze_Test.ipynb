{
  "nbformat": 4,
  "nbformat_minor": 0,
  "metadata": {
    "colab": {
      "provenance": [],
      "authorship_tag": "ABX9TyMa0AIdi10fiUj3i249mg+f",
      "include_colab_link": true
    },
    "kernelspec": {
      "name": "python3",
      "display_name": "Python 3"
    },
    "language_info": {
      "name": "python"
    }
  },
  "cells": [
    {
      "cell_type": "markdown",
      "metadata": {
        "id": "view-in-github",
        "colab_type": "text"
      },
      "source": [
        "<a href=\"https://colab.research.google.com/github/englissi/englissi/blob/main/Verb_Cloze_Test.ipynb\" target=\"_parent\"><img src=\"https://colab.research.google.com/assets/colab-badge.svg\" alt=\"Open In Colab\"/></a>"
      ]
    },
    {
      "cell_type": "markdown",
      "source": [
        "## 동사시제 빈칸채우기"
      ],
      "metadata": {
        "id": "ztqOi0H-JHcN"
      }
    },
    {
      "cell_type": "code",
      "source": [
        "%%capture\n",
        "!pip install gradio"
      ],
      "metadata": {
        "id": "3582ETU5JHH1"
      },
      "execution_count": 1,
      "outputs": []
    },
    {
      "cell_type": "code",
      "execution_count": 6,
      "metadata": {
        "colab": {
          "base_uri": "https://localhost:8080/",
          "height": 593
        },
        "id": "VGskM8ZZI_Kf",
        "outputId": "75f9de9c-9204-4ac4-8218-4a33894aaccf"
      },
      "outputs": [
        {
          "output_type": "stream",
          "name": "stdout",
          "text": [
            "Colab notebook detected. To show errors in colab notebook, set debug=True in launch()\n",
            "Running on public URL: https://9677521f1273ad8792.gradio.live\n",
            "\n",
            "This share link expires in 72 hours. For free permanent hosting and GPU upgrades, run `gradio deploy` from Terminal to deploy to Spaces (https://huggingface.co/spaces)\n"
          ]
        },
        {
          "output_type": "display_data",
          "data": {
            "text/plain": [
              "<IPython.core.display.HTML object>"
            ],
            "text/html": [
              "<div><iframe src=\"https://9677521f1273ad8792.gradio.live\" width=\"100%\" height=\"500\" allow=\"autoplay; camera; microphone; clipboard-read; clipboard-write;\" frameborder=\"0\" allowfullscreen></iframe></div>"
            ]
          },
          "metadata": {}
        },
        {
          "output_type": "execute_result",
          "data": {
            "text/plain": []
          },
          "metadata": {},
          "execution_count": 6
        }
      ],
      "source": [
        "import gradio as gr\n",
        "\n",
        "# The story \"The Guardian's Secret\" with blanks for cloze questions\n",
        "story = \"https://raw.githubusercontent.com/MK316/Spring2024/main/DLTESOL/project/story02.txt\"\n",
        "\n",
        "# Cloze questions\n",
        "cloze_questions = [\n",
        "    {\n",
        "        \"question\": \"In the small mountain village of Echo Ridge, adventure ______ (be) a part of everyday life.\",\n",
        "        \"answer\": \"was\"\n",
        "    },\n",
        "    {\n",
        "        \"question\": \"Among these children ______ (be) a bright-eyed eighth grader named Alex.\",\n",
        "        \"answer\": \"was\"\n",
        "    },\n",
        "    {\n",
        "        \"question\": \"Alex ______ (know) for his daring spirit and his love for exploring the rugged landscapes around Echo Ridge.\",\n",
        "        \"answer\": \"was known\"\n",
        "    },\n",
        "    {\n",
        "        \"question\": \"He ______ (have) a particular fascination with the old maps and tales of hidden treasures that had been lost in the mountains centuries ago.\",\n",
        "        \"answer\": \"had\"\n",
        "    },\n",
        "    {\n",
        "        \"question\": \"One day, while exploring the local library, Alex ______ (stumble) upon an ancient map tucked inside a forgotten book on village lore.\",\n",
        "        \"answer\": \"stumbled\"\n",
        "    },\n",
        "    {\n",
        "        \"question\": \"The map ______ (hint) at the location of a lost treasure, hidden deep within a cave known as Whispering Hollow.\",\n",
        "        \"answer\": \"hinted\"\n",
        "    },\n",
        "]\n",
        "\n",
        "# Function to handle the cloze quiz\n",
        "def cloze_quiz(state, answer):\n",
        "    name, question_index, score, results = state\n",
        "    question = cloze_questions[question_index]\n",
        "\n",
        "    if answer.strip().lower() == question[\"answer\"].lower():\n",
        "        score += 1\n",
        "        results.append(f\"Question {question_index + 1}: Correct\\n\")\n",
        "    else:\n",
        "        results.append(f\"Question {question_index + 1}: Incorrect, the correct answer is: {question['answer']}\\n\")\n",
        "\n",
        "    question_index += 1\n",
        "\n",
        "    if question_index < len(cloze_questions):\n",
        "        next_question = cloze_questions[question_index][\"question\"]\n",
        "        return (name, question_index, score, results), next_question, gr.update(visible=False), gr.update(value=\"\")\n",
        "    else:\n",
        "        result_text = f\"* Name: {name}\\n* Score: {score} out of {len(cloze_questions)}\\n\" + \"\\n\".join(results)\n",
        "        return (name, question_index, score, results), \"\", gr.update(visible=True, value=result_text), gr.update(visible=False)\n",
        "\n",
        "# Function to start the quiz\n",
        "def start_quiz(name):\n",
        "    return (name, 0, 0, []), cloze_questions[0][\"question\"], gr.update(visible=False), gr.update(visible=True)\n",
        "\n",
        "# Create the Gradio interface\n",
        "with gr.Blocks() as iface:\n",
        "    name_input = gr.Textbox(label=\"Enter your name\")\n",
        "    start_button = gr.Button(\"Start Quiz\")\n",
        "    question_output = gr.Textbox(label=\"Question\", interactive=False)\n",
        "    answer_input = gr.Textbox(label=\"Your Answer\")\n",
        "    next_button = gr.Button(\"Next\")\n",
        "    result_output = gr.Textbox(label=\"Results\", interactive=False, visible=False)\n",
        "\n",
        "    # Initialize the state\n",
        "    state = gr.State()\n",
        "\n",
        "    start_button.click(start_quiz, inputs=name_input, outputs=[state, question_output, result_output, answer_input])\n",
        "    next_button.click(cloze_quiz, inputs=[state, answer_input], outputs=[state, question_output, result_output, answer_input])\n",
        "\n",
        "iface.launch(share=True)\n"
      ]
    }
  ]
}